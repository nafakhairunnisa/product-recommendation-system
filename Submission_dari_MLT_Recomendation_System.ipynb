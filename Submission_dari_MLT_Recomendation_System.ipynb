{
  "nbformat": 4,
  "nbformat_minor": 0,
  "metadata": {
    "colab": {
      "provenance": []
    },
    "kernelspec": {
      "name": "python3",
      "display_name": "Python 3"
    },
    "language_info": {
      "name": "python"
    }
  },
  "cells": [
    {
      "cell_type": "markdown",
      "source": [
        "# Proyek Sistem Rekomendasi: [Amazon Sales Dataset](https://www.kaggle.com/datasets/karkavelrajaj/amazon-sales-dataset)\n",
        "- **Nama:** Nafa Khairunnisa\n",
        "- **Email:** nkhairunn2412@gmail.com\n",
        "- **ID Dicoding:** nafa-khairunnisa"
      ],
      "metadata": {
        "id": "tx_-adAZSMAq"
      }
    },
    {
      "cell_type": "markdown",
      "source": [
        "## Import Libraries"
      ],
      "metadata": {
        "id": "z_zVTMHZS4aU"
      }
    },
    {
      "cell_type": "code",
      "source": [
        "!pip uninstall -y numpy scikit-surprise\n",
        "!pip install numpy==1.24.3 scikit-surprise"
      ],
      "metadata": {
        "colab": {
          "base_uri": "https://localhost:8080/",
          "height": 584
        },
        "id": "KMWmExFSLusD",
        "outputId": "ed871008-3b27-4456-e476-615b7cebcefb"
      },
      "execution_count": null,
      "outputs": [
        {
          "output_type": "stream",
          "name": "stdout",
          "text": [
            "Found existing installation: numpy 2.0.2\n",
            "Uninstalling numpy-2.0.2:\n",
            "  Successfully uninstalled numpy-2.0.2\n",
            "Found existing installation: scikit-surprise 1.1.4\n",
            "Uninstalling scikit-surprise-1.1.4:\n",
            "  Successfully uninstalled scikit-surprise-1.1.4\n",
            "Collecting numpy==1.24.3\n",
            "  Downloading numpy-1.24.3-cp311-cp311-manylinux_2_17_x86_64.manylinux2014_x86_64.whl.metadata (5.6 kB)\n",
            "Collecting scikit-surprise\n",
            "  Using cached scikit_surprise-1.1.4-cp311-cp311-linux_x86_64.whl\n",
            "Requirement already satisfied: joblib>=1.2.0 in /usr/local/lib/python3.11/dist-packages (from scikit-surprise) (1.4.2)\n",
            "Requirement already satisfied: scipy>=1.6.0 in /usr/local/lib/python3.11/dist-packages (from scikit-surprise) (1.15.2)\n",
            "Downloading numpy-1.24.3-cp311-cp311-manylinux_2_17_x86_64.manylinux2014_x86_64.whl (17.3 MB)\n",
            "\u001b[2K   \u001b[90m━━━━━━━━━━━━━━━━━━━━━━━━━━━━━━━━━━━━━━━━\u001b[0m \u001b[32m17.3/17.3 MB\u001b[0m \u001b[31m89.9 MB/s\u001b[0m eta \u001b[36m0:00:00\u001b[0m\n",
            "\u001b[?25hInstalling collected packages: numpy, scikit-surprise\n",
            "\u001b[31mERROR: pip's dependency resolver does not currently take into account all the packages that are installed. This behaviour is the source of the following dependency conflicts.\n",
            "jaxlib 0.5.1 requires numpy>=1.25, but you have numpy 1.24.3 which is incompatible.\n",
            "pymc 5.22.0 requires numpy>=1.25.0, but you have numpy 1.24.3 which is incompatible.\n",
            "thinc 8.3.6 requires numpy<3.0.0,>=2.0.0, but you have numpy 1.24.3 which is incompatible.\n",
            "tensorflow 2.18.0 requires numpy<2.1.0,>=1.26.0, but you have numpy 1.24.3 which is incompatible.\n",
            "treescope 0.1.9 requires numpy>=1.25.2, but you have numpy 1.24.3 which is incompatible.\n",
            "albumentations 2.0.6 requires numpy>=1.24.4, but you have numpy 1.24.3 which is incompatible.\n",
            "blosc2 3.3.2 requires numpy>=1.26, but you have numpy 1.24.3 which is incompatible.\n",
            "jax 0.5.2 requires numpy>=1.25, but you have numpy 1.24.3 which is incompatible.\n",
            "albucore 0.0.24 requires numpy>=1.24.4, but you have numpy 1.24.3 which is incompatible.\u001b[0m\u001b[31m\n",
            "\u001b[0mSuccessfully installed numpy-1.24.3 scikit-surprise-1.1.4\n"
          ]
        },
        {
          "output_type": "display_data",
          "data": {
            "application/vnd.colab-display-data+json": {
              "pip_warning": {
                "packages": [
                  "numpy"
                ]
              },
              "id": "506d1aeb2e584bc793f196a07ee74d5a"
            }
          },
          "metadata": {}
        }
      ]
    },
    {
      "cell_type": "code",
      "source": [
        "!pip install scikit-surprise"
      ],
      "metadata": {
        "colab": {
          "base_uri": "https://localhost:8080/"
        },
        "id": "xQaIKKobKIRF",
        "outputId": "563f16f6-d78e-4957-ec6a-4ad233b794fe"
      },
      "execution_count": null,
      "outputs": [
        {
          "output_type": "stream",
          "name": "stdout",
          "text": [
            "Collecting scikit-surprise\n",
            "  Downloading scikit_surprise-1.1.4.tar.gz (154 kB)\n",
            "\u001b[?25l     \u001b[90m━━━━━━━━━━━━━━━━━━━━━━━━━━━━━━━━━━━━━━━━\u001b[0m \u001b[32m0.0/154.4 kB\u001b[0m \u001b[31m?\u001b[0m eta \u001b[36m-:--:--\u001b[0m\r\u001b[2K     \u001b[90m━━━━━━━━━━━━━━━━━━━━━━━━━━━━━━━━━━━━━━━\u001b[0m \u001b[32m154.4/154.4 kB\u001b[0m \u001b[31m5.1 MB/s\u001b[0m eta \u001b[36m0:00:00\u001b[0m\n",
            "\u001b[?25h  Installing build dependencies ... \u001b[?25l\u001b[?25hdone\n",
            "  Getting requirements to build wheel ... \u001b[?25l\u001b[?25hdone\n",
            "  Preparing metadata (pyproject.toml) ... \u001b[?25l\u001b[?25hdone\n",
            "Requirement already satisfied: joblib>=1.2.0 in /usr/local/lib/python3.11/dist-packages (from scikit-surprise) (1.4.2)\n",
            "Requirement already satisfied: numpy>=1.19.5 in /usr/local/lib/python3.11/dist-packages (from scikit-surprise) (2.0.2)\n",
            "Requirement already satisfied: scipy>=1.6.0 in /usr/local/lib/python3.11/dist-packages (from scikit-surprise) (1.15.2)\n",
            "Building wheels for collected packages: scikit-surprise\n",
            "  Building wheel for scikit-surprise (pyproject.toml) ... \u001b[?25l\u001b[?25hdone\n",
            "  Created wheel for scikit-surprise: filename=scikit_surprise-1.1.4-cp311-cp311-linux_x86_64.whl size=2505204 sha256=91d51b29d8966a232844fe44840d105ce0c58a75edefdb5b013faaa5ce51f9b6\n",
            "  Stored in directory: /root/.cache/pip/wheels/2a/8f/6e/7e2899163e2d85d8266daab4aa1cdabec7a6c56f83c015b5af\n",
            "Successfully built scikit-surprise\n",
            "Installing collected packages: scikit-surprise\n",
            "Successfully installed scikit-surprise-1.1.4\n"
          ]
        }
      ]
    },
    {
      "cell_type": "code",
      "source": [
        "# Library yang sering digunakan\n",
        "import os\n",
        "import re\n",
        "import shutil\n",
        "from google.colab import drive\n",
        "import numpy as np\n",
        "import matplotlib.pyplot as plt\n",
        "import pandas as pd\n",
        "from collections import defaultdict\n",
        "%matplotlib inline\n",
        "import seaborn as sns"
      ],
      "metadata": {
        "id": "IsF_6FWPS7GM"
      },
      "execution_count": null,
      "outputs": []
    },
    {
      "cell_type": "code",
      "source": [
        "# Library untuk data preparation\n",
        "from sklearn.preprocessing import MinMaxScaler"
      ],
      "metadata": {
        "id": "DtmilW0WVkFF"
      },
      "execution_count": null,
      "outputs": []
    },
    {
      "cell_type": "code",
      "source": [
        "# Library untuk modeling\n",
        "from scipy.sparse import hstack\n",
        "from sklearn.feature_extraction.text import TfidfVectorizer\n",
        "from sklearn.metrics.pairwise import cosine_similarity\n",
        "from surprise import Dataset, Reader, SVDpp\n",
        "from surprise.model_selection import GridSearchCV\n",
        "from surprise.model_selection import cross_validate\n",
        "from surprise.model_selection import train_test_split\n",
        "from surprise import accuracy"
      ],
      "metadata": {
        "id": "NFVzX7Qth4dg"
      },
      "execution_count": null,
      "outputs": []
    },
    {
      "cell_type": "code",
      "source": [
        "# Library untuk text preprocessing\n",
        "import spacy\n",
        "import nltk\n",
        "from nltk.corpus import stopwords\n",
        "from nltk.stem import WordNetLemmatizer"
      ],
      "metadata": {
        "id": "AkNevGy-4PUH"
      },
      "execution_count": null,
      "outputs": []
    },
    {
      "cell_type": "code",
      "source": [
        "# Download semua resource yang relevan\n",
        "nltk.download('stopwords')"
      ],
      "metadata": {
        "colab": {
          "base_uri": "https://localhost:8080/"
        },
        "id": "fw67JF6h4fik",
        "outputId": "17c6dbd3-9dc3-4e43-9d75-573e83c993f5"
      },
      "execution_count": null,
      "outputs": [
        {
          "output_type": "stream",
          "name": "stderr",
          "text": [
            "[nltk_data] Downloading package stopwords to /root/nltk_data...\n",
            "[nltk_data]   Unzipping corpora/stopwords.zip.\n"
          ]
        },
        {
          "output_type": "execute_result",
          "data": {
            "text/plain": [
              "True"
            ]
          },
          "metadata": {},
          "execution_count": 5
        }
      ]
    },
    {
      "cell_type": "markdown",
      "source": [
        "## Data Loading"
      ],
      "metadata": {
        "id": "89XZoUfOode7"
      }
    },
    {
      "cell_type": "code",
      "execution_count": null,
      "metadata": {
        "colab": {
          "base_uri": "https://localhost:8080/"
        },
        "id": "luu0c670j_jM",
        "outputId": "d15c1afc-c99d-43e1-8d82-8d6e865d84ee"
      },
      "outputs": [
        {
          "output_type": "stream",
          "name": "stdout",
          "text": [
            "Mounted at /content/drive\n",
            "kaggle.json\n"
          ]
        }
      ],
      "source": [
        "# Mount Google Drive\n",
        "drive.mount('/content/drive')\n",
        "\n",
        "# Cek apakah file tersedia\n",
        "!ls /content/drive/MyDrive/kaggle/"
      ]
    },
    {
      "cell_type": "code",
      "source": [
        "!mkdir -p ~/.kaggle\n",
        "!cp /content/drive/MyDrive/kaggle/kaggle.json ~/.kaggle/\n",
        "!chmod 600 ~/.kaggle/kaggle.json"
      ],
      "metadata": {
        "id": "bVGfE3LSSiWG"
      },
      "execution_count": null,
      "outputs": []
    },
    {
      "cell_type": "code",
      "source": [
        "# Membuat folder .kaggle\n",
        "os.makedirs(\"/root/.kaggle\", exist_ok=True)\n",
        "\n",
        "# Memindahkan kaggle.json dari folder di Google Drive ke folder .kaggle\n",
        "shutil.move('/content/drive/MyDrive/kaggle/kaggle.json', '/root/.kaggle/kaggle.json')\n",
        "\n",
        "# Mengubah permission agar hanya bisa dibaca oleh user\n",
        "os.chmod('/root/.kaggle/kaggle.json', 600)"
      ],
      "metadata": {
        "id": "3xwyKeGhoc2x"
      },
      "execution_count": null,
      "outputs": []
    },
    {
      "cell_type": "code",
      "source": [
        "# Download dataset dari Kaggle\n",
        "!kaggle datasets download -d karkavelrajaj/amazon-sales-dataset"
      ],
      "metadata": {
        "id": "hqVCp3mBSly-",
        "colab": {
          "base_uri": "https://localhost:8080/"
        },
        "outputId": "fbf3508d-3062-4bde-a15e-c31d94730f9b"
      },
      "execution_count": null,
      "outputs": [
        {
          "output_type": "stream",
          "name": "stdout",
          "text": [
            "Dataset URL: https://www.kaggle.com/datasets/karkavelrajaj/amazon-sales-dataset\n",
            "License(s): CC-BY-NC-SA-4.0\n"
          ]
        }
      ]
    },
    {
      "cell_type": "code",
      "source": [
        "# Unzip file dataset\n",
        "!unzip amazon-sales-dataset.zip"
      ],
      "metadata": {
        "colab": {
          "base_uri": "https://localhost:8080/"
        },
        "id": "oqH81AOAolxg",
        "outputId": "03b09bcf-695f-4aa5-a9d7-65174c38600b"
      },
      "execution_count": null,
      "outputs": [
        {
          "output_type": "stream",
          "name": "stdout",
          "text": [
            "Archive:  amazon-sales-dataset.zip\n",
            "  inflating: amazon.csv              \n"
          ]
        }
      ]
    },
    {
      "cell_type": "code",
      "source": [
        "# Memuat file csv ke dalam DataFrame\n",
        "df = pd.read_csv('/content/amazon.csv')\n",
        "\n",
        "# Menampilkan DataFrame\n",
        "df.head()"
      ],
      "metadata": {
        "colab": {
          "base_uri": "https://localhost:8080/",
          "height": 539
        },
        "id": "bvXj6ZGIo4sy",
        "outputId": "5c57dac2-4f30-49ec-9274-5b21ce8de07c"
      },
      "execution_count": null,
      "outputs": [
        {
          "output_type": "execute_result",
          "data": {
            "text/plain": [
              "   product_id                                       product_name  \\\n",
              "0  B07JW9H4J1  Wayona Nylon Braided USB to Lightning Fast Cha...   \n",
              "1  B098NS6PVG  Ambrane Unbreakable 60W / 3A Fast Charging 1.5...   \n",
              "2  B096MSW6CT  Sounce Fast Phone Charging Cable & Data Sync U...   \n",
              "3  B08HDJ86NZ  boAt Deuce USB 300 2 in 1 Type-C & Micro USB S...   \n",
              "4  B08CF3B7N1  Portronics Konnect L 1.2M Fast Charging 3A 8 P...   \n",
              "\n",
              "                                            category discounted_price  \\\n",
              "0  Computers&Accessories|Accessories&Peripherals|...             ₹399   \n",
              "1  Computers&Accessories|Accessories&Peripherals|...             ₹199   \n",
              "2  Computers&Accessories|Accessories&Peripherals|...             ₹199   \n",
              "3  Computers&Accessories|Accessories&Peripherals|...             ₹329   \n",
              "4  Computers&Accessories|Accessories&Peripherals|...             ₹154   \n",
              "\n",
              "  actual_price discount_percentage rating rating_count  \\\n",
              "0       ₹1,099                 64%    4.2       24,269   \n",
              "1         ₹349                 43%    4.0       43,994   \n",
              "2       ₹1,899                 90%    3.9        7,928   \n",
              "3         ₹699                 53%    4.2       94,363   \n",
              "4         ₹399                 61%    4.2       16,905   \n",
              "\n",
              "                                       about_product  \\\n",
              "0  High Compatibility : Compatible With iPhone 12...   \n",
              "1  Compatible with all Type C enabled devices, be...   \n",
              "2  【 Fast Charger& Data Sync】-With built-in safet...   \n",
              "3  The boAt Deuce USB 300 2 in 1 cable is compati...   \n",
              "4  [CHARGE & SYNC FUNCTION]- This cable comes wit...   \n",
              "\n",
              "                                             user_id  \\\n",
              "0  AG3D6O4STAQKAY2UVGEUV46KN35Q,AHMY5CWJMMK5BJRBB...   \n",
              "1  AECPFYFQVRUWC3KGNLJIOREFP5LQ,AGYYVPDD7YG7FYNBX...   \n",
              "2  AGU3BBQ2V2DDAMOAKGFAWDDQ6QHA,AESFLDV2PT363T2AQ...   \n",
              "3  AEWAZDZZJLQUYVOVGBEUKSLXHQ5A,AG5HTSFRRE6NL3M5S...   \n",
              "4  AE3Q6KSUK5P75D5HFYHCRAOLODSA,AFUGIFH5ZAFXRDSZH...   \n",
              "\n",
              "                                           user_name  \\\n",
              "0  Manav,Adarsh gupta,Sundeep,S.Sayeed Ahmed,jasp...   \n",
              "1  ArdKn,Nirbhay kumar,Sagar Viswanathan,Asp,Plac...   \n",
              "2  Kunal,Himanshu,viswanath,sai niharka,saqib mal...   \n",
              "3  Omkar dhale,JD,HEMALATHA,Ajwadh a.,amar singh ...   \n",
              "4  rahuls6099,Swasat Borah,Ajay Wadke,Pranali,RVK...   \n",
              "\n",
              "                                           review_id  \\\n",
              "0  R3HXWT0LRP0NMF,R2AJM3LFTLZHFO,R6AQJGUP6P86,R1K...   \n",
              "1  RGIQEG07R9HS2,R1SMWZQ86XIN8U,R2J3Y1WL29GWDE,RY...   \n",
              "2  R3J3EQQ9TZI5ZJ,R3E7WBGK7ID0KV,RWU79XKQ6I1QF,R2...   \n",
              "3  R3EEUZKKK9J36I,R3HJVYCLYOY554,REDECAZ7AMPQC,R1...   \n",
              "4  R1BP4L2HH9TFUP,R16PVJEXKV6QZS,R2UPDB81N66T4P,R...   \n",
              "\n",
              "                                        review_title  \\\n",
              "0  Satisfied,Charging is really fast,Value for mo...   \n",
              "1  A Good Braided Cable for Your Type C Device,Go...   \n",
              "2  Good speed for earlier versions,Good Product,W...   \n",
              "3  Good product,Good one,Nice,Really nice product...   \n",
              "4  As good as original,Decent,Good one for second...   \n",
              "\n",
              "                                      review_content  \\\n",
              "0  Looks durable Charging is fine tooNo complains...   \n",
              "1  I ordered this cable to connect my phone to An...   \n",
              "2  Not quite durable and sturdy,https://m.media-a...   \n",
              "3  Good product,long wire,Charges good,Nice,I bou...   \n",
              "4  Bought this instead of original apple, does th...   \n",
              "\n",
              "                                            img_link  \\\n",
              "0  https://m.media-amazon.com/images/W/WEBP_40237...   \n",
              "1  https://m.media-amazon.com/images/W/WEBP_40237...   \n",
              "2  https://m.media-amazon.com/images/W/WEBP_40237...   \n",
              "3  https://m.media-amazon.com/images/I/41V5FtEWPk...   \n",
              "4  https://m.media-amazon.com/images/W/WEBP_40237...   \n",
              "\n",
              "                                        product_link  \n",
              "0  https://www.amazon.in/Wayona-Braided-WN3LG1-Sy...  \n",
              "1  https://www.amazon.in/Ambrane-Unbreakable-Char...  \n",
              "2  https://www.amazon.in/Sounce-iPhone-Charging-C...  \n",
              "3  https://www.amazon.in/Deuce-300-Resistant-Tang...  \n",
              "4  https://www.amazon.in/Portronics-Konnect-POR-1...  "
            ],
            "text/html": [
              "\n",
              "  <div id=\"df-72f95736-069b-41ea-8f57-de72c28bb514\" class=\"colab-df-container\">\n",
              "    <div>\n",
              "<style scoped>\n",
              "    .dataframe tbody tr th:only-of-type {\n",
              "        vertical-align: middle;\n",
              "    }\n",
              "\n",
              "    .dataframe tbody tr th {\n",
              "        vertical-align: top;\n",
              "    }\n",
              "\n",
              "    .dataframe thead th {\n",
              "        text-align: right;\n",
              "    }\n",
              "</style>\n",
              "<table border=\"1\" class=\"dataframe\">\n",
              "  <thead>\n",
              "    <tr style=\"text-align: right;\">\n",
              "      <th></th>\n",
              "      <th>product_id</th>\n",
              "      <th>product_name</th>\n",
              "      <th>category</th>\n",
              "      <th>discounted_price</th>\n",
              "      <th>actual_price</th>\n",
              "      <th>discount_percentage</th>\n",
              "      <th>rating</th>\n",
              "      <th>rating_count</th>\n",
              "      <th>about_product</th>\n",
              "      <th>user_id</th>\n",
              "      <th>user_name</th>\n",
              "      <th>review_id</th>\n",
              "      <th>review_title</th>\n",
              "      <th>review_content</th>\n",
              "      <th>img_link</th>\n",
              "      <th>product_link</th>\n",
              "    </tr>\n",
              "  </thead>\n",
              "  <tbody>\n",
              "    <tr>\n",
              "      <th>0</th>\n",
              "      <td>B07JW9H4J1</td>\n",
              "      <td>Wayona Nylon Braided USB to Lightning Fast Cha...</td>\n",
              "      <td>Computers&amp;Accessories|Accessories&amp;Peripherals|...</td>\n",
              "      <td>₹399</td>\n",
              "      <td>₹1,099</td>\n",
              "      <td>64%</td>\n",
              "      <td>4.2</td>\n",
              "      <td>24,269</td>\n",
              "      <td>High Compatibility : Compatible With iPhone 12...</td>\n",
              "      <td>AG3D6O4STAQKAY2UVGEUV46KN35Q,AHMY5CWJMMK5BJRBB...</td>\n",
              "      <td>Manav,Adarsh gupta,Sundeep,S.Sayeed Ahmed,jasp...</td>\n",
              "      <td>R3HXWT0LRP0NMF,R2AJM3LFTLZHFO,R6AQJGUP6P86,R1K...</td>\n",
              "      <td>Satisfied,Charging is really fast,Value for mo...</td>\n",
              "      <td>Looks durable Charging is fine tooNo complains...</td>\n",
              "      <td>https://m.media-amazon.com/images/W/WEBP_40237...</td>\n",
              "      <td>https://www.amazon.in/Wayona-Braided-WN3LG1-Sy...</td>\n",
              "    </tr>\n",
              "    <tr>\n",
              "      <th>1</th>\n",
              "      <td>B098NS6PVG</td>\n",
              "      <td>Ambrane Unbreakable 60W / 3A Fast Charging 1.5...</td>\n",
              "      <td>Computers&amp;Accessories|Accessories&amp;Peripherals|...</td>\n",
              "      <td>₹199</td>\n",
              "      <td>₹349</td>\n",
              "      <td>43%</td>\n",
              "      <td>4.0</td>\n",
              "      <td>43,994</td>\n",
              "      <td>Compatible with all Type C enabled devices, be...</td>\n",
              "      <td>AECPFYFQVRUWC3KGNLJIOREFP5LQ,AGYYVPDD7YG7FYNBX...</td>\n",
              "      <td>ArdKn,Nirbhay kumar,Sagar Viswanathan,Asp,Plac...</td>\n",
              "      <td>RGIQEG07R9HS2,R1SMWZQ86XIN8U,R2J3Y1WL29GWDE,RY...</td>\n",
              "      <td>A Good Braided Cable for Your Type C Device,Go...</td>\n",
              "      <td>I ordered this cable to connect my phone to An...</td>\n",
              "      <td>https://m.media-amazon.com/images/W/WEBP_40237...</td>\n",
              "      <td>https://www.amazon.in/Ambrane-Unbreakable-Char...</td>\n",
              "    </tr>\n",
              "    <tr>\n",
              "      <th>2</th>\n",
              "      <td>B096MSW6CT</td>\n",
              "      <td>Sounce Fast Phone Charging Cable &amp; Data Sync U...</td>\n",
              "      <td>Computers&amp;Accessories|Accessories&amp;Peripherals|...</td>\n",
              "      <td>₹199</td>\n",
              "      <td>₹1,899</td>\n",
              "      <td>90%</td>\n",
              "      <td>3.9</td>\n",
              "      <td>7,928</td>\n",
              "      <td>【 Fast Charger&amp; Data Sync】-With built-in safet...</td>\n",
              "      <td>AGU3BBQ2V2DDAMOAKGFAWDDQ6QHA,AESFLDV2PT363T2AQ...</td>\n",
              "      <td>Kunal,Himanshu,viswanath,sai niharka,saqib mal...</td>\n",
              "      <td>R3J3EQQ9TZI5ZJ,R3E7WBGK7ID0KV,RWU79XKQ6I1QF,R2...</td>\n",
              "      <td>Good speed for earlier versions,Good Product,W...</td>\n",
              "      <td>Not quite durable and sturdy,https://m.media-a...</td>\n",
              "      <td>https://m.media-amazon.com/images/W/WEBP_40237...</td>\n",
              "      <td>https://www.amazon.in/Sounce-iPhone-Charging-C...</td>\n",
              "    </tr>\n",
              "    <tr>\n",
              "      <th>3</th>\n",
              "      <td>B08HDJ86NZ</td>\n",
              "      <td>boAt Deuce USB 300 2 in 1 Type-C &amp; Micro USB S...</td>\n",
              "      <td>Computers&amp;Accessories|Accessories&amp;Peripherals|...</td>\n",
              "      <td>₹329</td>\n",
              "      <td>₹699</td>\n",
              "      <td>53%</td>\n",
              "      <td>4.2</td>\n",
              "      <td>94,363</td>\n",
              "      <td>The boAt Deuce USB 300 2 in 1 cable is compati...</td>\n",
              "      <td>AEWAZDZZJLQUYVOVGBEUKSLXHQ5A,AG5HTSFRRE6NL3M5S...</td>\n",
              "      <td>Omkar dhale,JD,HEMALATHA,Ajwadh a.,amar singh ...</td>\n",
              "      <td>R3EEUZKKK9J36I,R3HJVYCLYOY554,REDECAZ7AMPQC,R1...</td>\n",
              "      <td>Good product,Good one,Nice,Really nice product...</td>\n",
              "      <td>Good product,long wire,Charges good,Nice,I bou...</td>\n",
              "      <td>https://m.media-amazon.com/images/I/41V5FtEWPk...</td>\n",
              "      <td>https://www.amazon.in/Deuce-300-Resistant-Tang...</td>\n",
              "    </tr>\n",
              "    <tr>\n",
              "      <th>4</th>\n",
              "      <td>B08CF3B7N1</td>\n",
              "      <td>Portronics Konnect L 1.2M Fast Charging 3A 8 P...</td>\n",
              "      <td>Computers&amp;Accessories|Accessories&amp;Peripherals|...</td>\n",
              "      <td>₹154</td>\n",
              "      <td>₹399</td>\n",
              "      <td>61%</td>\n",
              "      <td>4.2</td>\n",
              "      <td>16,905</td>\n",
              "      <td>[CHARGE &amp; SYNC FUNCTION]- This cable comes wit...</td>\n",
              "      <td>AE3Q6KSUK5P75D5HFYHCRAOLODSA,AFUGIFH5ZAFXRDSZH...</td>\n",
              "      <td>rahuls6099,Swasat Borah,Ajay Wadke,Pranali,RVK...</td>\n",
              "      <td>R1BP4L2HH9TFUP,R16PVJEXKV6QZS,R2UPDB81N66T4P,R...</td>\n",
              "      <td>As good as original,Decent,Good one for second...</td>\n",
              "      <td>Bought this instead of original apple, does th...</td>\n",
              "      <td>https://m.media-amazon.com/images/W/WEBP_40237...</td>\n",
              "      <td>https://www.amazon.in/Portronics-Konnect-POR-1...</td>\n",
              "    </tr>\n",
              "  </tbody>\n",
              "</table>\n",
              "</div>\n",
              "    <div class=\"colab-df-buttons\">\n",
              "\n",
              "  <div class=\"colab-df-container\">\n",
              "    <button class=\"colab-df-convert\" onclick=\"convertToInteractive('df-72f95736-069b-41ea-8f57-de72c28bb514')\"\n",
              "            title=\"Convert this dataframe to an interactive table.\"\n",
              "            style=\"display:none;\">\n",
              "\n",
              "  <svg xmlns=\"http://www.w3.org/2000/svg\" height=\"24px\" viewBox=\"0 -960 960 960\">\n",
              "    <path d=\"M120-120v-720h720v720H120Zm60-500h600v-160H180v160Zm220 220h160v-160H400v160Zm0 220h160v-160H400v160ZM180-400h160v-160H180v160Zm440 0h160v-160H620v160ZM180-180h160v-160H180v160Zm440 0h160v-160H620v160Z\"/>\n",
              "  </svg>\n",
              "    </button>\n",
              "\n",
              "  <style>\n",
              "    .colab-df-container {\n",
              "      display:flex;\n",
              "      gap: 12px;\n",
              "    }\n",
              "\n",
              "    .colab-df-convert {\n",
              "      background-color: #E8F0FE;\n",
              "      border: none;\n",
              "      border-radius: 50%;\n",
              "      cursor: pointer;\n",
              "      display: none;\n",
              "      fill: #1967D2;\n",
              "      height: 32px;\n",
              "      padding: 0 0 0 0;\n",
              "      width: 32px;\n",
              "    }\n",
              "\n",
              "    .colab-df-convert:hover {\n",
              "      background-color: #E2EBFA;\n",
              "      box-shadow: 0px 1px 2px rgba(60, 64, 67, 0.3), 0px 1px 3px 1px rgba(60, 64, 67, 0.15);\n",
              "      fill: #174EA6;\n",
              "    }\n",
              "\n",
              "    .colab-df-buttons div {\n",
              "      margin-bottom: 4px;\n",
              "    }\n",
              "\n",
              "    [theme=dark] .colab-df-convert {\n",
              "      background-color: #3B4455;\n",
              "      fill: #D2E3FC;\n",
              "    }\n",
              "\n",
              "    [theme=dark] .colab-df-convert:hover {\n",
              "      background-color: #434B5C;\n",
              "      box-shadow: 0px 1px 3px 1px rgba(0, 0, 0, 0.15);\n",
              "      filter: drop-shadow(0px 1px 2px rgba(0, 0, 0, 0.3));\n",
              "      fill: #FFFFFF;\n",
              "    }\n",
              "  </style>\n",
              "\n",
              "    <script>\n",
              "      const buttonEl =\n",
              "        document.querySelector('#df-72f95736-069b-41ea-8f57-de72c28bb514 button.colab-df-convert');\n",
              "      buttonEl.style.display =\n",
              "        google.colab.kernel.accessAllowed ? 'block' : 'none';\n",
              "\n",
              "      async function convertToInteractive(key) {\n",
              "        const element = document.querySelector('#df-72f95736-069b-41ea-8f57-de72c28bb514');\n",
              "        const dataTable =\n",
              "          await google.colab.kernel.invokeFunction('convertToInteractive',\n",
              "                                                    [key], {});\n",
              "        if (!dataTable) return;\n",
              "\n",
              "        const docLinkHtml = 'Like what you see? Visit the ' +\n",
              "          '<a target=\"_blank\" href=https://colab.research.google.com/notebooks/data_table.ipynb>data table notebook</a>'\n",
              "          + ' to learn more about interactive tables.';\n",
              "        element.innerHTML = '';\n",
              "        dataTable['output_type'] = 'display_data';\n",
              "        await google.colab.output.renderOutput(dataTable, element);\n",
              "        const docLink = document.createElement('div');\n",
              "        docLink.innerHTML = docLinkHtml;\n",
              "        element.appendChild(docLink);\n",
              "      }\n",
              "    </script>\n",
              "  </div>\n",
              "\n",
              "\n",
              "    <div id=\"df-addaa8c6-1666-4547-9e50-e558ad39f8d4\">\n",
              "      <button class=\"colab-df-quickchart\" onclick=\"quickchart('df-addaa8c6-1666-4547-9e50-e558ad39f8d4')\"\n",
              "                title=\"Suggest charts\"\n",
              "                style=\"display:none;\">\n",
              "\n",
              "<svg xmlns=\"http://www.w3.org/2000/svg\" height=\"24px\"viewBox=\"0 0 24 24\"\n",
              "     width=\"24px\">\n",
              "    <g>\n",
              "        <path d=\"M19 3H5c-1.1 0-2 .9-2 2v14c0 1.1.9 2 2 2h14c1.1 0 2-.9 2-2V5c0-1.1-.9-2-2-2zM9 17H7v-7h2v7zm4 0h-2V7h2v10zm4 0h-2v-4h2v4z\"/>\n",
              "    </g>\n",
              "</svg>\n",
              "      </button>\n",
              "\n",
              "<style>\n",
              "  .colab-df-quickchart {\n",
              "      --bg-color: #E8F0FE;\n",
              "      --fill-color: #1967D2;\n",
              "      --hover-bg-color: #E2EBFA;\n",
              "      --hover-fill-color: #174EA6;\n",
              "      --disabled-fill-color: #AAA;\n",
              "      --disabled-bg-color: #DDD;\n",
              "  }\n",
              "\n",
              "  [theme=dark] .colab-df-quickchart {\n",
              "      --bg-color: #3B4455;\n",
              "      --fill-color: #D2E3FC;\n",
              "      --hover-bg-color: #434B5C;\n",
              "      --hover-fill-color: #FFFFFF;\n",
              "      --disabled-bg-color: #3B4455;\n",
              "      --disabled-fill-color: #666;\n",
              "  }\n",
              "\n",
              "  .colab-df-quickchart {\n",
              "    background-color: var(--bg-color);\n",
              "    border: none;\n",
              "    border-radius: 50%;\n",
              "    cursor: pointer;\n",
              "    display: none;\n",
              "    fill: var(--fill-color);\n",
              "    height: 32px;\n",
              "    padding: 0;\n",
              "    width: 32px;\n",
              "  }\n",
              "\n",
              "  .colab-df-quickchart:hover {\n",
              "    background-color: var(--hover-bg-color);\n",
              "    box-shadow: 0 1px 2px rgba(60, 64, 67, 0.3), 0 1px 3px 1px rgba(60, 64, 67, 0.15);\n",
              "    fill: var(--button-hover-fill-color);\n",
              "  }\n",
              "\n",
              "  .colab-df-quickchart-complete:disabled,\n",
              "  .colab-df-quickchart-complete:disabled:hover {\n",
              "    background-color: var(--disabled-bg-color);\n",
              "    fill: var(--disabled-fill-color);\n",
              "    box-shadow: none;\n",
              "  }\n",
              "\n",
              "  .colab-df-spinner {\n",
              "    border: 2px solid var(--fill-color);\n",
              "    border-color: transparent;\n",
              "    border-bottom-color: var(--fill-color);\n",
              "    animation:\n",
              "      spin 1s steps(1) infinite;\n",
              "  }\n",
              "\n",
              "  @keyframes spin {\n",
              "    0% {\n",
              "      border-color: transparent;\n",
              "      border-bottom-color: var(--fill-color);\n",
              "      border-left-color: var(--fill-color);\n",
              "    }\n",
              "    20% {\n",
              "      border-color: transparent;\n",
              "      border-left-color: var(--fill-color);\n",
              "      border-top-color: var(--fill-color);\n",
              "    }\n",
              "    30% {\n",
              "      border-color: transparent;\n",
              "      border-left-color: var(--fill-color);\n",
              "      border-top-color: var(--fill-color);\n",
              "      border-right-color: var(--fill-color);\n",
              "    }\n",
              "    40% {\n",
              "      border-color: transparent;\n",
              "      border-right-color: var(--fill-color);\n",
              "      border-top-color: var(--fill-color);\n",
              "    }\n",
              "    60% {\n",
              "      border-color: transparent;\n",
              "      border-right-color: var(--fill-color);\n",
              "    }\n",
              "    80% {\n",
              "      border-color: transparent;\n",
              "      border-right-color: var(--fill-color);\n",
              "      border-bottom-color: var(--fill-color);\n",
              "    }\n",
              "    90% {\n",
              "      border-color: transparent;\n",
              "      border-bottom-color: var(--fill-color);\n",
              "    }\n",
              "  }\n",
              "</style>\n",
              "\n",
              "      <script>\n",
              "        async function quickchart(key) {\n",
              "          const quickchartButtonEl =\n",
              "            document.querySelector('#' + key + ' button');\n",
              "          quickchartButtonEl.disabled = true;  // To prevent multiple clicks.\n",
              "          quickchartButtonEl.classList.add('colab-df-spinner');\n",
              "          try {\n",
              "            const charts = await google.colab.kernel.invokeFunction(\n",
              "                'suggestCharts', [key], {});\n",
              "          } catch (error) {\n",
              "            console.error('Error during call to suggestCharts:', error);\n",
              "          }\n",
              "          quickchartButtonEl.classList.remove('colab-df-spinner');\n",
              "          quickchartButtonEl.classList.add('colab-df-quickchart-complete');\n",
              "        }\n",
              "        (() => {\n",
              "          let quickchartButtonEl =\n",
              "            document.querySelector('#df-addaa8c6-1666-4547-9e50-e558ad39f8d4 button');\n",
              "          quickchartButtonEl.style.display =\n",
              "            google.colab.kernel.accessAllowed ? 'block' : 'none';\n",
              "        })();\n",
              "      </script>\n",
              "    </div>\n",
              "\n",
              "    </div>\n",
              "  </div>\n"
            ],
            "application/vnd.google.colaboratory.intrinsic+json": {
              "type": "dataframe",
              "variable_name": "df",
              "summary": "{\n  \"name\": \"df\",\n  \"rows\": 1465,\n  \"fields\": [\n    {\n      \"column\": \"product_id\",\n      \"properties\": {\n        \"dtype\": \"string\",\n        \"num_unique_values\": 1351,\n        \"samples\": [\n          \"B09GFLXVH9\",\n          \"B0BC9BW512\",\n          \"B097JVLW3L\"\n        ],\n        \"semantic_type\": \"\",\n        \"description\": \"\"\n      }\n    },\n    {\n      \"column\": \"product_name\",\n      \"properties\": {\n        \"dtype\": \"string\",\n        \"num_unique_values\": 1337,\n        \"samples\": [\n          \"Glun Multipurpose Portable Electronic Digital Weighing Scale Weight Machine (10 Kg - with Back Light)\",\n          \"Akiara\\u00ae - Makes life easy Mini Sewing Machine with Table Set | Tailoring Machine | Hand Sewing Machine with extension table, foot pedal, adapter\",\n          \"TTK Prestige Limited Orion Mixer Grinder 500 Watts, 3 Jars (1200ml, 1000ml, 500ml) (Red)\"\n        ],\n        \"semantic_type\": \"\",\n        \"description\": \"\"\n      }\n    },\n    {\n      \"column\": \"category\",\n      \"properties\": {\n        \"dtype\": \"category\",\n        \"num_unique_values\": 211,\n        \"samples\": [\n          \"Electronics|Mobiles&Accessories|MobileAccessories|Photo&VideoAccessories|SelfieSticks\",\n          \"Home&Kitchen|Kitchen&HomeAppliances|Coffee,Tea&Espresso|CoffeeGrinders|ElectricGrinders\",\n          \"Computers&Accessories|Accessories&Peripherals|HardDriveAccessories|Caddies\"\n        ],\n        \"semantic_type\": \"\",\n        \"description\": \"\"\n      }\n    },\n    {\n      \"column\": \"discounted_price\",\n      \"properties\": {\n        \"dtype\": \"category\",\n        \"num_unique_values\": 550,\n        \"samples\": [\n          \"\\u20b920,999\",\n          \"\\u20b91,699\",\n          \"\\u20b9419\"\n        ],\n        \"semantic_type\": \"\",\n        \"description\": \"\"\n      }\n    },\n    {\n      \"column\": \"actual_price\",\n      \"properties\": {\n        \"dtype\": \"category\",\n        \"num_unique_values\": 449,\n        \"samples\": [\n          \"\\u20b93,210\",\n          \"\\u20b91,129\",\n          \"\\u20b94,500\"\n        ],\n        \"semantic_type\": \"\",\n        \"description\": \"\"\n      }\n    },\n    {\n      \"column\": \"discount_percentage\",\n      \"properties\": {\n        \"dtype\": \"category\",\n        \"num_unique_values\": 92,\n        \"samples\": [\n          \"86%\",\n          \"72%\",\n          \"26%\"\n        ],\n        \"semantic_type\": \"\",\n        \"description\": \"\"\n      }\n    },\n    {\n      \"column\": \"rating\",\n      \"properties\": {\n        \"dtype\": \"category\",\n        \"num_unique_values\": 28,\n        \"samples\": [\n          \"3.6\",\n          \"3\",\n          \"3.3\"\n        ],\n        \"semantic_type\": \"\",\n        \"description\": \"\"\n      }\n    },\n    {\n      \"column\": \"rating_count\",\n      \"properties\": {\n        \"dtype\": \"string\",\n        \"num_unique_values\": 1143,\n        \"samples\": [\n          \"197\",\n          \"7,945\",\n          \"1,40,036\"\n        ],\n        \"semantic_type\": \"\",\n        \"description\": \"\"\n      }\n    },\n    {\n      \"column\": \"about_product\",\n      \"properties\": {\n        \"dtype\": \"string\",\n        \"num_unique_values\": 1293,\n        \"samples\": [\n          \"Advanced Bluetooth calling: Upgrade to an effortless calling experience - attend/reject calls and dial numbers, from your wrist.;Digital crown: Navigate through the watch, adjust volume and change the watch face via the fully-functional crown.|1.72\\u2019\\u2019display: ColorFit Pro 4 features 1.72\\u2019\\u2019 TFT LCD with 25% more screen area than ColorFit Pro 3.;Vivid clarity: View information under the brightest sun, thanks to 311 PPI and 500 nits of brightness.|60Hz refresh rate: Get smoother scrolling & navigation experience.;100 sports modes: Take your pick from 100 sports modes and ace your game.|Noise Health Suite: Know how your body is doing with the battery of fitness features.;Productivity suite: Get more work done with quick reply options, stock market updates, alarm and disconnect with smart DND when you want to.; Water Resistance Level: Water Resistant|Item Type Name: Smartwatch; Connectivity Technology: Usb; Included Components: \\u200eSmartwatch, Magnetic Charger, User Manual, Warranty Card\",\n          \"Fire-Boltt is India' No 1 Wearable Watch Brand Q122 by IDC Worldwide quarterly wearable device tracker Q122.\\u30101.69\\u201d HD Large Touch Screen\\u3011- Fire-Boltt Ninja 3 comes with a 1.69\\u201d HD Full Touch Display for smooth swipes and clear vision;\\u3010SPO2/ Oxygen, Heart Rate\\u3011 - Fire-Boltt Ninja 3 Smartwatch comes with real time 24*7 SPO2 / Blood Oxygen tracking, Dynamic Heart Rate Monitoring (If a patient is suffering from Covid 19 please use a medical device prescribed by the Doctor)|\\u301060 workout modes\\u3011- This smartwatch consists of 60 sports mode to track. Keep a track of all your activities and compare history to analyse your performance. Count steps, distance, and calories burned.;\\u3010IP68 Water Resistant\\u3011- This smartwatch can withstand dust, spills, raindrops and is sweatproof too|\\u3010POWERFUL BATTERY\\u3011 - About 7 days battery life and a Standby Time of 25 Days \\u3010Multiple Watch Faces\\u3011- Unlimited Customized Built in Watch Faces and also multiple watch faces through the app;\\u3010Stay Social Stay Updated\\u3011 \\u2013 Inbuilt Social Media Notifications.|\\u3010All In One Smart Coach\\u3011 - Track your Daily Steps, Sleep, Fitness, Sports, Heart Rate and SPO2 \\u3010Enjoy Music And Camera Control\\u3011 \\u3010IP68 Water Resistant\\u3011- This smartwatch can withstand dust, spills, raindrops and is sweatproof too; Water Resistance Level: water_resistant|Connectivity Technology: Bluetooth; Clasp Type: Tang Buckle; Compatible Devices: Smartphonetablet; Human Interface Input: Touch Screenbuttons; Item Type Name: Smart Watch; Included Components: 1 Smartwatch, 1 Manual, 1 Magnetic Charger, 1 Warranty Card; Band Color: Green; Band Material Type: Silicone; Case Material Type: Plastic; Color Name: Green\",\n          \"Keyboard : Standard keyboard|Rupee key, Comfortable|Silent Durable keys|Mouse : Ergonomic design, Accurate optical sensor|High resolution enabling faster navigation\"\n        ],\n        \"semantic_type\": \"\",\n        \"description\": \"\"\n      }\n    },\n    {\n      \"column\": \"user_id\",\n      \"properties\": {\n        \"dtype\": \"string\",\n        \"num_unique_values\": 1194,\n        \"samples\": [\n          \"AEWW4LJOVXD65UKE7QCBCHQZMG7A,AGVWB5YTQZC7GAIV4PCCOFF2U27A,AFUR2THG6BYV6IRA5JV6LBQNG2AA,AFSG5TXKKCLHBK3FABKJABBBUHEQ,AF2DOUVTY5LHTVWGGVE6YHW5KEGA,AFEX5OM5UOST6POIWTBW6TCEZ2YA,AFKZZOQ7J2SOXP3OHFBEDXNFINCQ,AFD6P5IRXY6KWXUW4H7X6ECRMSLA\",\n          \"AG65C34LATM4J3ZFKJJPDNISZKUQ,AG76GICZHJGA7YVN4TORX36ONVYA,AHHIHCEKEYDIRPJ5W7WXGLB3E66Q,AFYSF6635O2EAPR4GMVBH74FSIFQ,AHAVRPA7Z3PKTTWVBVUISCKI7RYQ,AEDH674UH53A5FKLUZCCM5LVKUQQ,AEUK344UA4FNU4PR4AWSPKWX5PPQ,AGPAK6ELVZPVKQ7GEZ7IUHNK2C3Q\",\n          \"AE3S2ZAEMH765KUJ57DR6HBZBB3Q,AHSIVUNTJMI5S5AJGFDE5EDQ355Q,AGQUDHVCMBW7DYS2HT5HA3QCZIEA,AFNXZNINQLTHKVRFI37VQAAFFGOA,AGVKQNHNS7PQK63FIB6EVC5GUAMQ,AEHZ4NOZ5SIDQLGODWS4UZ6RVQJA,AGBVAEUPMWYCDQIKNAD2DXEYWXZA,AEOJW7OWUZROZ6Z66ZQU33Y2ZYLQ\"\n        ],\n        \"semantic_type\": \"\",\n        \"description\": \"\"\n      }\n    },\n    {\n      \"column\": \"user_name\",\n      \"properties\": {\n        \"dtype\": \"string\",\n        \"num_unique_values\": 1194,\n        \"samples\": [\n          \"Kindle Customer,Aryan,pooja reddy,Amazon Customer,Meenakshi jasrotia,imamthulla,Anan,Sanjay Chavan\",\n          \"zain,Deepak,VIMAL,Shiv Sagar,Tamil selvan,Rakesh yadav,PAGOLA SURESH,Olivia\",\n          \"Fardeen mujawar,Pavan,Danny,Siddhartha Pratap,Rabindra Kumar Das,Amazon Customer,Rakesh Ranga Yadav,Nivedita Chatterjee\"\n        ],\n        \"semantic_type\": \"\",\n        \"description\": \"\"\n      }\n    },\n    {\n      \"column\": \"review_id\",\n      \"properties\": {\n        \"dtype\": \"string\",\n        \"num_unique_values\": 1194,\n        \"samples\": [\n          \"R1T4TKPYU5EJCB,R1D38AX8G0RVNS,R1KHCRDEEREQG7,R396UL83OTSD8F,R3CY781PK5CB8A,RBCCWRI4IUHH5,R2K7JYQMGQ31YJ,R3P0GJ4V5HPF2M\",\n          \"R2JCUKBR0BQ8ES,RNVX0V6SJF3CP,RW5MJG9LTX6QD,R37PSG13H70Z1F,R17RIHK0XXQDH5,R2P187SBO4SEMH,R1V49G7PD8Y93G,RU78E5A4MW0PK\",\n          \"RD6OIJUG0R241,R3EUJ7A6LG8X7V,R1DWGT4USEVGYK,R187KH5XJBPS86,R2XYH31E9NK0GU,RDYNZZPHU7SZK,R2MR0DYZVFN3HA,R3PV91U8ZYN5DU\"\n        ],\n        \"semantic_type\": \"\",\n        \"description\": \"\"\n      }\n    },\n    {\n      \"column\": \"review_title\",\n      \"properties\": {\n        \"dtype\": \"string\",\n        \"num_unique_values\": 1194,\n        \"samples\": [\n          \"Clearly makes a difference,Good,Value for money,Good material,The ink of parker is very lite,Good,Good,Very good\",\n          \"Good product with less money,At this price ok ok.,Good product,Good mouse at this price range,Good,Good for daily use ke liye,Good,Good\",\n          \"Ok,Like all other ball pens,Regular pen over priced,Nice,It is fine.,Awful blue ink,Nice and my Favorite Pen,Reasonable price\"\n        ],\n        \"semantic_type\": \"\",\n        \"description\": \"\"\n      }\n    },\n    {\n      \"column\": \"review_content\",\n      \"properties\": {\n        \"dtype\": \"string\",\n        \"num_unique_values\": 1212,\n        \"samples\": [\n          \"Reviewing just after a day of using this product. We made French fries and chicken tikka and result is quiet impressive! The recipe book and cooking tips from the given QR code is really helpful. Hope it serves for a long time.Not to forget about the beautiful bottle green and golden look of it.,,https://m.media-amazon.com/images/I/81lT2gsd9sL._SY88.jpg,No detailed user manual.. no idea about the cooking time. How to use is not describe.,It works well and plastic quality is poor but it can wothstand the temperature for sure. Its not a toy to look for high quality plastic. And for the half the price that the other models, we can ignore that.Functionality wise its perfect.Just buy it,Don't go for costly products as it is available in a reasonable price and it has so many great features. I'm happy with it,Pigeon never dissapointd with their quality. The best way to have healthy, crispy food.,The outcome of cooked is not up to the mark.  The recipe book was not attached so,  it is difficult to know how to cook different dishes.  I tried some but outcome was bad.  Definitely you will have to compromise taste if you use this appliance.  I'm very much worried about the current consumption.  Think before you buy these air fryers.\",\n          \"Not a perfect fit for long usage,One problem you may face if you use it continuously for a long time may be ear ache can be start..,Although it's an HP product there's nothing to write home about this headphone. It does what it is promised and there's value for money as you can trust the brand but don't expect anything 'extra'. No volume control or on/off button, comfortable to wear but not designed for comfort, clear sound, and a mic but no advanced features for either. Yet it's good for the price!,Product would not meet my expectation and sound quality is poor.,Sound quality is good , cancels the background noise.,Not a bad deal,Build quality and sound quality was good,Base and noise cancelling is also good \\u263a\\ufe0f\\ud83d\\ude0a,I bought it in october month but now is not wprking properly\",\n          \"ABOUT  AMAZONBASICS:xxxxxxxxxxxxxxxxxxxxxxxxxxxxxxAmazon Basics was launched in 2009 & is Amazon\\u2019s own inhouse brand for fast moving small electronic consumer goods.Here amazon uses its massive collection of sales data to launch products that are in huge demand & already exist in the market- but at lower prices. Simply put up a similar replica for something successful but at much affordable prices.If something isn\\u2019t an immediate hit, Amazon pulls it and moves on.Amazon otherwise is like an online marketplace where it provides a portal for various sellers to sell their product BUT with amazonbasics - Amazon is selling its own product at its own marketplace .Here it derives the benefit of eliminating any intermediate distributors or retailers & hence amazonbasics branded products are available for a lower price attracting bulk customers online.As an additional benefit, Amazonbasics products are delivered free to prime members & are covered under amazon warranty for all and hence any claim or replacement procedures are highly streamlined & immediately taken care of.ABOUT OUR PRODUCT ( REQUIREMENT vs ACTUAL):xxxxxxxxxxxxxxxxxxxxxxxxxxxxxxxxxxxxxxxxxxxxxxxxxxxxxxI recently purchased a new Qualcomm 3 Qbix car charger & was looking for a cable with USB A to Micro B connector. I listed my priorities under various heads to come up with a conclusion and let us compare the actual product based upon my initial requirements:1.) DATA EXCHANGE:*****************************Since it was to be primarily used for fast mobile devices charging in car, Data exchange capability was not much of my concern. Preference though would surely have been a USB 3 but it didn\\u2019t bother me if I could only get a USB 2.0 too.ACTUAL PRODUCT: I did try to copy a movie file just for the sake of testing data exchange and I found it to be pretty well. I did not capture any speed data but then we all know speed of data transfer also varies with the type of data being transferred. The more variety of data being transferred simultaneously the lower will be the speed.2.) LENGTH OF THE CABLE :**************************************Again since I could not afford to have a lengthy loop of cable bunched around my gear knob, I preferred to keep it short & simple hence my only lookout was upto around a meter or below.ACTUAL PRODUCT: The cable came nicely packed in a paper packet and was precisely 0.9 meters or approximately 3 feet long. The length was sufficient for me to plug-in any of the mobile devices to my car charger at the drivers or the side passenger\\u2019s seat.3.) TANGLE FREE/ FLEXIBILITY/ STRENGTH STANDARDS:**************************************************************************I am not particularly a fan of those stubborn braided wires which are so hard that they retain the shape in which they are bent. I wanted something that was thick yet flexible enough to acquire a circular shape when bunched.ACTUAL PRODUCT: The cable received looked exactly as shown over the site with good flexibility , reasonable thickness & a sturdy intermediate cable. The whole construction of the cable due it\\u2019s cable size & flexibility is almost tangle-free.The associated cable was not exactly thick but can\\u2019t be termed as thin or delicate too. It\\u2019s not the thickest I\\u2019ve seen but then thickest doesn\\u2019t always means most durable. Given my application it\\u2019s more than just suitable.The overall built & quality of the cable & insulation looks promising enough to last few years. Even if used for other than car charging it looks durable enough to last long.I had further shortlisted mansaa & an amkette cable for the same purpose but they were too long for my requirement.4.) COMPACT MOULDED CONNECTORS:*********************************************************Had an inclination towards moulded connectors to avoid any issues where the connectors break open exposing the terminal PCBs.ACTUAL PRODUCT : There are no complaints regarding the connectors of the actual cable. The connectors are perfectly moulded without any joints or risks of splitting open. The connector casings are further quite compact at terminals to fit in comfortably at scarce spaces.The connector ports are sturdy enough both at USB A & micro B ports. The micro B port pins lock securely onto the charging mobile devices which is quite good.No signs of loose construction.Being Gold-plated is more of a misleading & fancy term(in this case) as most of the metal ports designed today already have a corrosion resistance & nobody is going to use them in saline sea water anyways.5.) AVAILABILITY OF TIES/VELCRO STRAPS :***********************************************************As per my intended use in a car where compactness was of paramount importance, I expected an included cable tie or a Velcro strap would be a nice add-on to properly adjust & arrange the cable as per requirement.ACTUAL PRODUCT: This I miss the most in the provided actual cable, there is no provision of an included strap or cable tie through which I could adjust my required cable length easily.6.) DECENT CURRENT HANDLING CAPABILITY:******************************************************************On the newest QC 3.0 certified chargers the current transmission can go up to 3.4 amps in certain cases hence the cable needed to have a decent current handling ability.ACTUAL PRODUCT : The actual cable has a nameplate rating of handling up to 2.1 amps against demands at new QC 3.0 chargers that could go up to 3.4 amps. Here, let me clear out that the latest QC chargers vary voltage to current ratios to achieve desired fast charging  & thus it is not like a continuous flow of 3.4 amps is there, it keeps on reducing hence cable ratings designed for a continuous current handling of anything above 2.0 amps would sufficiently work with QC 3.0 chargers.Have tried it safely multiple times charging my Samsung S7 from 10 % without the cable getting hot.7.) WARRANTY:************************Comes with a 1 year warranty as expected. Not the best in the industry but reasonable.OTHER OBSERVATIONS:*************************************Apart from the above listed features, the other details of the actual product received worth mentioning are:8.) The cable is manufactured in China & imported by amazon warehouse dealers under the brand name & philosophy of amazonbasics.9.) The cable has a manufacturing date of Oct 2017 & it was imported to India in Dec 2017.10.) The cable has a MRP tag of 495 bucks however I purchased it online for 269 bucks.being a prime member shipping was free.11.) A customer care toll free number & email is also printed over the label for registration of any consumer grievances.FINAL VERDICT:xxxxxxxxxxxxxxxxxxIt has been few days since I have received & been using this product. So far everything from construction to performance seems to be convincing enough to recommend it and for a price of around 260 I suppose, its worth it.Will surely update if any malfunction is observed.,Worth for buy!,The quality that amazon basics at times give at cheap prices is beyond imagination. simply superb, goverment shouldnt hinder amazon products , amazon products rather gives competition to local qualityless products which consumers are forced to buy beacause they have no quality competition. Make in india is good, but if the make in india products are simple cheap copies of branded products without any investment in R and D, without R and D make in india would never be successfull and ousting companies like amazon will only lead to loss for consumers , govt should infact encourage such competition.,Amazon basics provides one of the best cables available for charging your phone or connecting devices.As an past customer of many cables from Amazon this cable doesn't also disappoint,Supports fast charging for all my Samsung phones.I use Samsung a9pro 2016, Samsung s8plus 2017, which this cable is compatible with .Very sturdy, thick and very long. 6 ftVery affordable pricing. Thanks AmazonI also use a USB c cable for my Samsung s20fe.,Super,Product charging is ok.. however it's mere 1 foot in length..  the vendor could have mentioned  correct product description.. there is no need to mislead.. too early to say performance as I have received it today.,Good,I have bought many cheap chinese micro usb cable in Rs 50 and Rs 100 of ubon and of many other chinese local companies,and none of them worked properly.Finall i decided to go for this.And it is charging as well transferring data, without any issue and i am very happy with my purchaseMy advice : Dont buy, cheap chinese local cables of.You will have to throw them in dustbean after some time.Better buy this one.\"\n        ],\n        \"semantic_type\": \"\",\n        \"description\": \"\"\n      }\n    },\n    {\n      \"column\": \"img_link\",\n      \"properties\": {\n        \"dtype\": \"string\",\n        \"num_unique_values\": 1412,\n        \"samples\": [\n          \"https://m.media-amazon.com/images/W/WEBP_402378-T2/images/I/51esjcOy79L._SY300_SX300_QL70_FMwebp_.jpg\",\n          \"https://m.media-amazon.com/images/I/41nRBNNDnNL._SX300_SY300_QL70_FMwebp_.jpg\",\n          \"https://m.media-amazon.com/images/I/31-hWNXDxiL._SX300_SY300_QL70_ML2_.jpg\"\n        ],\n        \"semantic_type\": \"\",\n        \"description\": \"\"\n      }\n    },\n    {\n      \"column\": \"product_link\",\n      \"properties\": {\n        \"dtype\": \"string\",\n        \"num_unique_values\": 1465,\n        \"samples\": [\n          \"https://www.amazon.in/Snapdragon-Resolution-Refresh-27-81Cm-Display/dp/B09XXZXQC1/ref=sr_1_437?qid=1672903017&s=computers&sr=1-437\",\n          \"https://www.amazon.in/Skadioo-Accessories-Receiver-Compatible-dongle/dp/B09LHXNZLR/ref=sr_1_195?qid=1672909134&s=electronics&sr=1-195\",\n          \"https://www.amazon.in/LOHAYA-Assistant-Compatible-Xstream-Function/dp/B09LV13JFB/ref=sr_1_408?qid=1672909144&s=electronics&sr=1-408\"\n        ],\n        \"semantic_type\": \"\",\n        \"description\": \"\"\n      }\n    }\n  ]\n}"
            }
          },
          "metadata": {},
          "execution_count": 11
        }
      ]
    },
    {
      "cell_type": "markdown",
      "source": [
        "## Data Understanding"
      ],
      "metadata": {
        "id": "MvkGZshU8KXN"
      }
    },
    {
      "cell_type": "markdown",
      "source": [
        "### Deskripsi Variabel"
      ],
      "metadata": {
        "id": "rcdNRYYJTfd_"
      }
    },
    {
      "cell_type": "code",
      "source": [
        "df.describe()"
      ],
      "metadata": {
        "colab": {
          "base_uri": "https://localhost:8080/",
          "height": 264
        },
        "id": "xo_pDjq18bB2",
        "outputId": "23b4a56c-2394-4c64-deca-5578086121b9"
      },
      "execution_count": null,
      "outputs": [
        {
          "output_type": "execute_result",
          "data": {
            "text/plain": [
              "        product_id                                       product_name  \\\n",
              "count         1465                                               1465   \n",
              "unique        1351                                               1337   \n",
              "top     B07JW9H4J1  Fire-Boltt Ninja Call Pro Plus 1.83\" Smart Wat...   \n",
              "freq             3                                                  5   \n",
              "\n",
              "                                                 category discounted_price  \\\n",
              "count                                                1465             1465   \n",
              "unique                                                211              550   \n",
              "top     Computers&Accessories|Accessories&Peripherals|...             ₹199   \n",
              "freq                                                  233               53   \n",
              "\n",
              "       actual_price discount_percentage rating rating_count  \\\n",
              "count          1465                1465   1465         1463   \n",
              "unique          449                  92     28         1143   \n",
              "top            ₹999                 50%    4.1        9,378   \n",
              "freq            120                  56    244            9   \n",
              "\n",
              "                                            about_product  \\\n",
              "count                                                1465   \n",
              "unique                                               1293   \n",
              "top     [CHARGE & SYNC FUNCTION]- This cable comes wit...   \n",
              "freq                                                    6   \n",
              "\n",
              "                                                  user_id  \\\n",
              "count                                                1465   \n",
              "unique                                               1194   \n",
              "top     AHIKJUDTVJ4T6DV6IUGFYZ5LXMPA,AE55KTFVNXYFD5FPY...   \n",
              "freq                                                   10   \n",
              "\n",
              "                                                user_name  \\\n",
              "count                                                1465   \n",
              "unique                                               1194   \n",
              "top     $@|\\|TO$|-|,Sethu madhav,Akash Thakur,Burger P...   \n",
              "freq                                                   10   \n",
              "\n",
              "                                                review_id  \\\n",
              "count                                                1465   \n",
              "unique                                               1194   \n",
              "top     R3F4T5TRYPTMIG,R3DQIEC603E7AY,R1O4Z15FD40PV5,R...   \n",
              "freq                                                   10   \n",
              "\n",
              "                                             review_title  \\\n",
              "count                                                1465   \n",
              "unique                                               1194   \n",
              "top     Worked on iPhone 7 and didn’t work on XR,Good ...   \n",
              "freq                                                   10   \n",
              "\n",
              "                                           review_content  \\\n",
              "count                                                1465   \n",
              "unique                                               1212   \n",
              "top     I am not big on camera usage, personally. I wa...   \n",
              "freq                                                    8   \n",
              "\n",
              "                                                 img_link  \\\n",
              "count                                                1465   \n",
              "unique                                               1412   \n",
              "top     https://m.media-amazon.com/images/I/413sCRKobN...   \n",
              "freq                                                    3   \n",
              "\n",
              "                                             product_link  \n",
              "count                                                1465  \n",
              "unique                                               1465  \n",
              "top     https://www.amazon.in/Wayona-Braided-WN3LG1-Sy...  \n",
              "freq                                                    1  "
            ],
            "text/html": [
              "\n",
              "  <div id=\"df-28fb7d5a-aa2b-40ac-a238-a7facfeaf7f4\" class=\"colab-df-container\">\n",
              "    <div>\n",
              "<style scoped>\n",
              "    .dataframe tbody tr th:only-of-type {\n",
              "        vertical-align: middle;\n",
              "    }\n",
              "\n",
              "    .dataframe tbody tr th {\n",
              "        vertical-align: top;\n",
              "    }\n",
              "\n",
              "    .dataframe thead th {\n",
              "        text-align: right;\n",
              "    }\n",
              "</style>\n",
              "<table border=\"1\" class=\"dataframe\">\n",
              "  <thead>\n",
              "    <tr style=\"text-align: right;\">\n",
              "      <th></th>\n",
              "      <th>product_id</th>\n",
              "      <th>product_name</th>\n",
              "      <th>category</th>\n",
              "      <th>discounted_price</th>\n",
              "      <th>actual_price</th>\n",
              "      <th>discount_percentage</th>\n",
              "      <th>rating</th>\n",
              "      <th>rating_count</th>\n",
              "      <th>about_product</th>\n",
              "      <th>user_id</th>\n",
              "      <th>user_name</th>\n",
              "      <th>review_id</th>\n",
              "      <th>review_title</th>\n",
              "      <th>review_content</th>\n",
              "      <th>img_link</th>\n",
              "      <th>product_link</th>\n",
              "    </tr>\n",
              "  </thead>\n",
              "  <tbody>\n",
              "    <tr>\n",
              "      <th>count</th>\n",
              "      <td>1465</td>\n",
              "      <td>1465</td>\n",
              "      <td>1465</td>\n",
              "      <td>1465</td>\n",
              "      <td>1465</td>\n",
              "      <td>1465</td>\n",
              "      <td>1465</td>\n",
              "      <td>1463</td>\n",
              "      <td>1465</td>\n",
              "      <td>1465</td>\n",
              "      <td>1465</td>\n",
              "      <td>1465</td>\n",
              "      <td>1465</td>\n",
              "      <td>1465</td>\n",
              "      <td>1465</td>\n",
              "      <td>1465</td>\n",
              "    </tr>\n",
              "    <tr>\n",
              "      <th>unique</th>\n",
              "      <td>1351</td>\n",
              "      <td>1337</td>\n",
              "      <td>211</td>\n",
              "      <td>550</td>\n",
              "      <td>449</td>\n",
              "      <td>92</td>\n",
              "      <td>28</td>\n",
              "      <td>1143</td>\n",
              "      <td>1293</td>\n",
              "      <td>1194</td>\n",
              "      <td>1194</td>\n",
              "      <td>1194</td>\n",
              "      <td>1194</td>\n",
              "      <td>1212</td>\n",
              "      <td>1412</td>\n",
              "      <td>1465</td>\n",
              "    </tr>\n",
              "    <tr>\n",
              "      <th>top</th>\n",
              "      <td>B07JW9H4J1</td>\n",
              "      <td>Fire-Boltt Ninja Call Pro Plus 1.83\" Smart Wat...</td>\n",
              "      <td>Computers&amp;Accessories|Accessories&amp;Peripherals|...</td>\n",
              "      <td>₹199</td>\n",
              "      <td>₹999</td>\n",
              "      <td>50%</td>\n",
              "      <td>4.1</td>\n",
              "      <td>9,378</td>\n",
              "      <td>[CHARGE &amp; SYNC FUNCTION]- This cable comes wit...</td>\n",
              "      <td>AHIKJUDTVJ4T6DV6IUGFYZ5LXMPA,AE55KTFVNXYFD5FPY...</td>\n",
              "      <td>$@|\\|TO$|-|,Sethu madhav,Akash Thakur,Burger P...</td>\n",
              "      <td>R3F4T5TRYPTMIG,R3DQIEC603E7AY,R1O4Z15FD40PV5,R...</td>\n",
              "      <td>Worked on iPhone 7 and didn’t work on XR,Good ...</td>\n",
              "      <td>I am not big on camera usage, personally. I wa...</td>\n",
              "      <td>https://m.media-amazon.com/images/I/413sCRKobN...</td>\n",
              "      <td>https://www.amazon.in/Wayona-Braided-WN3LG1-Sy...</td>\n",
              "    </tr>\n",
              "    <tr>\n",
              "      <th>freq</th>\n",
              "      <td>3</td>\n",
              "      <td>5</td>\n",
              "      <td>233</td>\n",
              "      <td>53</td>\n",
              "      <td>120</td>\n",
              "      <td>56</td>\n",
              "      <td>244</td>\n",
              "      <td>9</td>\n",
              "      <td>6</td>\n",
              "      <td>10</td>\n",
              "      <td>10</td>\n",
              "      <td>10</td>\n",
              "      <td>10</td>\n",
              "      <td>8</td>\n",
              "      <td>3</td>\n",
              "      <td>1</td>\n",
              "    </tr>\n",
              "  </tbody>\n",
              "</table>\n",
              "</div>\n",
              "    <div class=\"colab-df-buttons\">\n",
              "\n",
              "  <div class=\"colab-df-container\">\n",
              "    <button class=\"colab-df-convert\" onclick=\"convertToInteractive('df-28fb7d5a-aa2b-40ac-a238-a7facfeaf7f4')\"\n",
              "            title=\"Convert this dataframe to an interactive table.\"\n",
              "            style=\"display:none;\">\n",
              "\n",
              "  <svg xmlns=\"http://www.w3.org/2000/svg\" height=\"24px\" viewBox=\"0 -960 960 960\">\n",
              "    <path d=\"M120-120v-720h720v720H120Zm60-500h600v-160H180v160Zm220 220h160v-160H400v160Zm0 220h160v-160H400v160ZM180-400h160v-160H180v160Zm440 0h160v-160H620v160ZM180-180h160v-160H180v160Zm440 0h160v-160H620v160Z\"/>\n",
              "  </svg>\n",
              "    </button>\n",
              "\n",
              "  <style>\n",
              "    .colab-df-container {\n",
              "      display:flex;\n",
              "      gap: 12px;\n",
              "    }\n",
              "\n",
              "    .colab-df-convert {\n",
              "      background-color: #E8F0FE;\n",
              "      border: none;\n",
              "      border-radius: 50%;\n",
              "      cursor: pointer;\n",
              "      display: none;\n",
              "      fill: #1967D2;\n",
              "      height: 32px;\n",
              "      padding: 0 0 0 0;\n",
              "      width: 32px;\n",
              "    }\n",
              "\n",
              "    .colab-df-convert:hover {\n",
              "      background-color: #E2EBFA;\n",
              "      box-shadow: 0px 1px 2px rgba(60, 64, 67, 0.3), 0px 1px 3px 1px rgba(60, 64, 67, 0.15);\n",
              "      fill: #174EA6;\n",
              "    }\n",
              "\n",
              "    .colab-df-buttons div {\n",
              "      margin-bottom: 4px;\n",
              "    }\n",
              "\n",
              "    [theme=dark] .colab-df-convert {\n",
              "      background-color: #3B4455;\n",
              "      fill: #D2E3FC;\n",
              "    }\n",
              "\n",
              "    [theme=dark] .colab-df-convert:hover {\n",
              "      background-color: #434B5C;\n",
              "      box-shadow: 0px 1px 3px 1px rgba(0, 0, 0, 0.15);\n",
              "      filter: drop-shadow(0px 1px 2px rgba(0, 0, 0, 0.3));\n",
              "      fill: #FFFFFF;\n",
              "    }\n",
              "  </style>\n",
              "\n",
              "    <script>\n",
              "      const buttonEl =\n",
              "        document.querySelector('#df-28fb7d5a-aa2b-40ac-a238-a7facfeaf7f4 button.colab-df-convert');\n",
              "      buttonEl.style.display =\n",
              "        google.colab.kernel.accessAllowed ? 'block' : 'none';\n",
              "\n",
              "      async function convertToInteractive(key) {\n",
              "        const element = document.querySelector('#df-28fb7d5a-aa2b-40ac-a238-a7facfeaf7f4');\n",
              "        const dataTable =\n",
              "          await google.colab.kernel.invokeFunction('convertToInteractive',\n",
              "                                                    [key], {});\n",
              "        if (!dataTable) return;\n",
              "\n",
              "        const docLinkHtml = 'Like what you see? Visit the ' +\n",
              "          '<a target=\"_blank\" href=https://colab.research.google.com/notebooks/data_table.ipynb>data table notebook</a>'\n",
              "          + ' to learn more about interactive tables.';\n",
              "        element.innerHTML = '';\n",
              "        dataTable['output_type'] = 'display_data';\n",
              "        await google.colab.output.renderOutput(dataTable, element);\n",
              "        const docLink = document.createElement('div');\n",
              "        docLink.innerHTML = docLinkHtml;\n",
              "        element.appendChild(docLink);\n",
              "      }\n",
              "    </script>\n",
              "  </div>\n",
              "\n",
              "\n",
              "    <div id=\"df-3b1eb872-0f2d-4844-adbe-9273813f9490\">\n",
              "      <button class=\"colab-df-quickchart\" onclick=\"quickchart('df-3b1eb872-0f2d-4844-adbe-9273813f9490')\"\n",
              "                title=\"Suggest charts\"\n",
              "                style=\"display:none;\">\n",
              "\n",
              "<svg xmlns=\"http://www.w3.org/2000/svg\" height=\"24px\"viewBox=\"0 0 24 24\"\n",
              "     width=\"24px\">\n",
              "    <g>\n",
              "        <path d=\"M19 3H5c-1.1 0-2 .9-2 2v14c0 1.1.9 2 2 2h14c1.1 0 2-.9 2-2V5c0-1.1-.9-2-2-2zM9 17H7v-7h2v7zm4 0h-2V7h2v10zm4 0h-2v-4h2v4z\"/>\n",
              "    </g>\n",
              "</svg>\n",
              "      </button>\n",
              "\n",
              "<style>\n",
              "  .colab-df-quickchart {\n",
              "      --bg-color: #E8F0FE;\n",
              "      --fill-color: #1967D2;\n",
              "      --hover-bg-color: #E2EBFA;\n",
              "      --hover-fill-color: #174EA6;\n",
              "      --disabled-fill-color: #AAA;\n",
              "      --disabled-bg-color: #DDD;\n",
              "  }\n",
              "\n",
              "  [theme=dark] .colab-df-quickchart {\n",
              "      --bg-color: #3B4455;\n",
              "      --fill-color: #D2E3FC;\n",
              "      --hover-bg-color: #434B5C;\n",
              "      --hover-fill-color: #FFFFFF;\n",
              "      --disabled-bg-color: #3B4455;\n",
              "      --disabled-fill-color: #666;\n",
              "  }\n",
              "\n",
              "  .colab-df-quickchart {\n",
              "    background-color: var(--bg-color);\n",
              "    border: none;\n",
              "    border-radius: 50%;\n",
              "    cursor: pointer;\n",
              "    display: none;\n",
              "    fill: var(--fill-color);\n",
              "    height: 32px;\n",
              "    padding: 0;\n",
              "    width: 32px;\n",
              "  }\n",
              "\n",
              "  .colab-df-quickchart:hover {\n",
              "    background-color: var(--hover-bg-color);\n",
              "    box-shadow: 0 1px 2px rgba(60, 64, 67, 0.3), 0 1px 3px 1px rgba(60, 64, 67, 0.15);\n",
              "    fill: var(--button-hover-fill-color);\n",
              "  }\n",
              "\n",
              "  .colab-df-quickchart-complete:disabled,\n",
              "  .colab-df-quickchart-complete:disabled:hover {\n",
              "    background-color: var(--disabled-bg-color);\n",
              "    fill: var(--disabled-fill-color);\n",
              "    box-shadow: none;\n",
              "  }\n",
              "\n",
              "  .colab-df-spinner {\n",
              "    border: 2px solid var(--fill-color);\n",
              "    border-color: transparent;\n",
              "    border-bottom-color: var(--fill-color);\n",
              "    animation:\n",
              "      spin 1s steps(1) infinite;\n",
              "  }\n",
              "\n",
              "  @keyframes spin {\n",
              "    0% {\n",
              "      border-color: transparent;\n",
              "      border-bottom-color: var(--fill-color);\n",
              "      border-left-color: var(--fill-color);\n",
              "    }\n",
              "    20% {\n",
              "      border-color: transparent;\n",
              "      border-left-color: var(--fill-color);\n",
              "      border-top-color: var(--fill-color);\n",
              "    }\n",
              "    30% {\n",
              "      border-color: transparent;\n",
              "      border-left-color: var(--fill-color);\n",
              "      border-top-color: var(--fill-color);\n",
              "      border-right-color: var(--fill-color);\n",
              "    }\n",
              "    40% {\n",
              "      border-color: transparent;\n",
              "      border-right-color: var(--fill-color);\n",
              "      border-top-color: var(--fill-color);\n",
              "    }\n",
              "    60% {\n",
              "      border-color: transparent;\n",
              "      border-right-color: var(--fill-color);\n",
              "    }\n",
              "    80% {\n",
              "      border-color: transparent;\n",
              "      border-right-color: var(--fill-color);\n",
              "      border-bottom-color: var(--fill-color);\n",
              "    }\n",
              "    90% {\n",
              "      border-color: transparent;\n",
              "      border-bottom-color: var(--fill-color);\n",
              "    }\n",
              "  }\n",
              "</style>\n",
              "\n",
              "      <script>\n",
              "        async function quickchart(key) {\n",
              "          const quickchartButtonEl =\n",
              "            document.querySelector('#' + key + ' button');\n",
              "          quickchartButtonEl.disabled = true;  // To prevent multiple clicks.\n",
              "          quickchartButtonEl.classList.add('colab-df-spinner');\n",
              "          try {\n",
              "            const charts = await google.colab.kernel.invokeFunction(\n",
              "                'suggestCharts', [key], {});\n",
              "          } catch (error) {\n",
              "            console.error('Error during call to suggestCharts:', error);\n",
              "          }\n",
              "          quickchartButtonEl.classList.remove('colab-df-spinner');\n",
              "          quickchartButtonEl.classList.add('colab-df-quickchart-complete');\n",
              "        }\n",
              "        (() => {\n",
              "          let quickchartButtonEl =\n",
              "            document.querySelector('#df-3b1eb872-0f2d-4844-adbe-9273813f9490 button');\n",
              "          quickchartButtonEl.style.display =\n",
              "            google.colab.kernel.accessAllowed ? 'block' : 'none';\n",
              "        })();\n",
              "      </script>\n",
              "    </div>\n",
              "\n",
              "    </div>\n",
              "  </div>\n"
            ],
            "application/vnd.google.colaboratory.intrinsic+json": {
              "type": "dataframe",
              "summary": "{\n  \"name\": \"df\",\n  \"rows\": 4,\n  \"fields\": [\n    {\n      \"column\": \"product_id\",\n      \"properties\": {\n        \"dtype\": \"string\",\n        \"num_unique_values\": 4,\n        \"samples\": [\n          1351,\n          \"3\",\n          \"1465\"\n        ],\n        \"semantic_type\": \"\",\n        \"description\": \"\"\n      }\n    },\n    {\n      \"column\": \"product_name\",\n      \"properties\": {\n        \"dtype\": \"string\",\n        \"num_unique_values\": 4,\n        \"samples\": [\n          1337,\n          \"5\",\n          \"1465\"\n        ],\n        \"semantic_type\": \"\",\n        \"description\": \"\"\n      }\n    },\n    {\n      \"column\": \"category\",\n      \"properties\": {\n        \"dtype\": \"string\",\n        \"num_unique_values\": 4,\n        \"samples\": [\n          211,\n          \"233\",\n          \"1465\"\n        ],\n        \"semantic_type\": \"\",\n        \"description\": \"\"\n      }\n    },\n    {\n      \"column\": \"discounted_price\",\n      \"properties\": {\n        \"dtype\": \"string\",\n        \"num_unique_values\": 4,\n        \"samples\": [\n          550,\n          \"53\",\n          \"1465\"\n        ],\n        \"semantic_type\": \"\",\n        \"description\": \"\"\n      }\n    },\n    {\n      \"column\": \"actual_price\",\n      \"properties\": {\n        \"dtype\": \"string\",\n        \"num_unique_values\": 4,\n        \"samples\": [\n          449,\n          \"120\",\n          \"1465\"\n        ],\n        \"semantic_type\": \"\",\n        \"description\": \"\"\n      }\n    },\n    {\n      \"column\": \"discount_percentage\",\n      \"properties\": {\n        \"dtype\": \"string\",\n        \"num_unique_values\": 4,\n        \"samples\": [\n          92,\n          \"56\",\n          \"1465\"\n        ],\n        \"semantic_type\": \"\",\n        \"description\": \"\"\n      }\n    },\n    {\n      \"column\": \"rating\",\n      \"properties\": {\n        \"dtype\": \"string\",\n        \"num_unique_values\": 4,\n        \"samples\": [\n          28,\n          \"244\",\n          \"1465\"\n        ],\n        \"semantic_type\": \"\",\n        \"description\": \"\"\n      }\n    },\n    {\n      \"column\": \"rating_count\",\n      \"properties\": {\n        \"dtype\": \"string\",\n        \"num_unique_values\": 4,\n        \"samples\": [\n          1143,\n          \"9\",\n          \"1463\"\n        ],\n        \"semantic_type\": \"\",\n        \"description\": \"\"\n      }\n    },\n    {\n      \"column\": \"about_product\",\n      \"properties\": {\n        \"dtype\": \"string\",\n        \"num_unique_values\": 4,\n        \"samples\": [\n          1293,\n          \"6\",\n          \"1465\"\n        ],\n        \"semantic_type\": \"\",\n        \"description\": \"\"\n      }\n    },\n    {\n      \"column\": \"user_id\",\n      \"properties\": {\n        \"dtype\": \"string\",\n        \"num_unique_values\": 4,\n        \"samples\": [\n          1194,\n          \"10\",\n          \"1465\"\n        ],\n        \"semantic_type\": \"\",\n        \"description\": \"\"\n      }\n    },\n    {\n      \"column\": \"user_name\",\n      \"properties\": {\n        \"dtype\": \"string\",\n        \"num_unique_values\": 4,\n        \"samples\": [\n          1194,\n          \"10\",\n          \"1465\"\n        ],\n        \"semantic_type\": \"\",\n        \"description\": \"\"\n      }\n    },\n    {\n      \"column\": \"review_id\",\n      \"properties\": {\n        \"dtype\": \"string\",\n        \"num_unique_values\": 4,\n        \"samples\": [\n          1194,\n          \"10\",\n          \"1465\"\n        ],\n        \"semantic_type\": \"\",\n        \"description\": \"\"\n      }\n    },\n    {\n      \"column\": \"review_title\",\n      \"properties\": {\n        \"dtype\": \"string\",\n        \"num_unique_values\": 4,\n        \"samples\": [\n          1194,\n          \"10\",\n          \"1465\"\n        ],\n        \"semantic_type\": \"\",\n        \"description\": \"\"\n      }\n    },\n    {\n      \"column\": \"review_content\",\n      \"properties\": {\n        \"dtype\": \"string\",\n        \"num_unique_values\": 4,\n        \"samples\": [\n          1212,\n          \"8\",\n          \"1465\"\n        ],\n        \"semantic_type\": \"\",\n        \"description\": \"\"\n      }\n    },\n    {\n      \"column\": \"img_link\",\n      \"properties\": {\n        \"dtype\": \"string\",\n        \"num_unique_values\": 4,\n        \"samples\": [\n          1412,\n          \"3\",\n          \"1465\"\n        ],\n        \"semantic_type\": \"\",\n        \"description\": \"\"\n      }\n    },\n    {\n      \"column\": \"product_link\",\n      \"properties\": {\n        \"dtype\": \"string\",\n        \"num_unique_values\": 3,\n        \"samples\": [\n          \"1465\",\n          \"https://www.amazon.in/Wayona-Braided-WN3LG1-Syncing-Charging/dp/B07JW9H4J1/ref=sr_1_1?qid=1672909124&s=electronics&sr=1-1\",\n          \"1\"\n        ],\n        \"semantic_type\": \"\",\n        \"description\": \"\"\n      }\n    }\n  ]\n}"
            }
          },
          "metadata": {},
          "execution_count": 12
        }
      ]
    },
    {
      "cell_type": "code",
      "source": [
        "df.info()"
      ],
      "metadata": {
        "colab": {
          "base_uri": "https://localhost:8080/"
        },
        "id": "J6wjeLod8MFY",
        "outputId": "e6ae26b9-e5b9-4e49-ac83-84b9b017003b"
      },
      "execution_count": null,
      "outputs": [
        {
          "output_type": "stream",
          "name": "stdout",
          "text": [
            "<class 'pandas.core.frame.DataFrame'>\n",
            "RangeIndex: 1465 entries, 0 to 1464\n",
            "Data columns (total 16 columns):\n",
            " #   Column               Non-Null Count  Dtype \n",
            "---  ------               --------------  ----- \n",
            " 0   product_id           1465 non-null   object\n",
            " 1   product_name         1465 non-null   object\n",
            " 2   category             1465 non-null   object\n",
            " 3   discounted_price     1465 non-null   object\n",
            " 4   actual_price         1465 non-null   object\n",
            " 5   discount_percentage  1465 non-null   object\n",
            " 6   rating               1465 non-null   object\n",
            " 7   rating_count         1463 non-null   object\n",
            " 8   about_product        1465 non-null   object\n",
            " 9   user_id              1465 non-null   object\n",
            " 10  user_name            1465 non-null   object\n",
            " 11  review_id            1465 non-null   object\n",
            " 12  review_title         1465 non-null   object\n",
            " 13  review_content       1465 non-null   object\n",
            " 14  img_link             1465 non-null   object\n",
            " 15  product_link         1465 non-null   object\n",
            "dtypes: object(16)\n",
            "memory usage: 183.3+ KB\n"
          ]
        }
      ]
    },
    {
      "cell_type": "code",
      "source": [
        "print(df.shape)"
      ],
      "metadata": {
        "colab": {
          "base_uri": "https://localhost:8080/"
        },
        "id": "TRpDL0FQ8U_c",
        "outputId": "7540eddf-dc25-4bf6-9898-1ec03d185369"
      },
      "execution_count": null,
      "outputs": [
        {
          "output_type": "stream",
          "name": "stdout",
          "text": [
            "(1465, 16)\n"
          ]
        }
      ]
    },
    {
      "cell_type": "markdown",
      "source": [
        "Insights:\n",
        "\n",
        "- Dataset memiliki total 1465 sampel.\n",
        "- Memiliki 16 fitur.\n",
        "- Semua fitur bertipe data object.\n",
        "- Nilai unique setiap fitur bervariasi."
      ],
      "metadata": {
        "id": "o6hv6Fz6Ndw4"
      }
    },
    {
      "cell_type": "markdown",
      "source": [
        "### Cek Missing value"
      ],
      "metadata": {
        "id": "DK6tkXmKbS95"
      }
    },
    {
      "cell_type": "code",
      "source": [
        "df.isna().sum()"
      ],
      "metadata": {
        "colab": {
          "base_uri": "https://localhost:8080/",
          "height": 586
        },
        "id": "A4zUZPXkbIDs",
        "outputId": "ab697d23-b811-406b-f1f4-5ec1acfc76c7"
      },
      "execution_count": null,
      "outputs": [
        {
          "output_type": "execute_result",
          "data": {
            "text/plain": [
              "product_id             0\n",
              "product_name           0\n",
              "category               0\n",
              "discounted_price       0\n",
              "actual_price           0\n",
              "discount_percentage    0\n",
              "rating                 0\n",
              "rating_count           2\n",
              "about_product          0\n",
              "user_id                0\n",
              "user_name              0\n",
              "review_id              0\n",
              "review_title           0\n",
              "review_content         0\n",
              "img_link               0\n",
              "product_link           0\n",
              "dtype: int64"
            ],
            "text/html": [
              "<div>\n",
              "<style scoped>\n",
              "    .dataframe tbody tr th:only-of-type {\n",
              "        vertical-align: middle;\n",
              "    }\n",
              "\n",
              "    .dataframe tbody tr th {\n",
              "        vertical-align: top;\n",
              "    }\n",
              "\n",
              "    .dataframe thead th {\n",
              "        text-align: right;\n",
              "    }\n",
              "</style>\n",
              "<table border=\"1\" class=\"dataframe\">\n",
              "  <thead>\n",
              "    <tr style=\"text-align: right;\">\n",
              "      <th></th>\n",
              "      <th>0</th>\n",
              "    </tr>\n",
              "  </thead>\n",
              "  <tbody>\n",
              "    <tr>\n",
              "      <th>product_id</th>\n",
              "      <td>0</td>\n",
              "    </tr>\n",
              "    <tr>\n",
              "      <th>product_name</th>\n",
              "      <td>0</td>\n",
              "    </tr>\n",
              "    <tr>\n",
              "      <th>category</th>\n",
              "      <td>0</td>\n",
              "    </tr>\n",
              "    <tr>\n",
              "      <th>discounted_price</th>\n",
              "      <td>0</td>\n",
              "    </tr>\n",
              "    <tr>\n",
              "      <th>actual_price</th>\n",
              "      <td>0</td>\n",
              "    </tr>\n",
              "    <tr>\n",
              "      <th>discount_percentage</th>\n",
              "      <td>0</td>\n",
              "    </tr>\n",
              "    <tr>\n",
              "      <th>rating</th>\n",
              "      <td>0</td>\n",
              "    </tr>\n",
              "    <tr>\n",
              "      <th>rating_count</th>\n",
              "      <td>2</td>\n",
              "    </tr>\n",
              "    <tr>\n",
              "      <th>about_product</th>\n",
              "      <td>0</td>\n",
              "    </tr>\n",
              "    <tr>\n",
              "      <th>user_id</th>\n",
              "      <td>0</td>\n",
              "    </tr>\n",
              "    <tr>\n",
              "      <th>user_name</th>\n",
              "      <td>0</td>\n",
              "    </tr>\n",
              "    <tr>\n",
              "      <th>review_id</th>\n",
              "      <td>0</td>\n",
              "    </tr>\n",
              "    <tr>\n",
              "      <th>review_title</th>\n",
              "      <td>0</td>\n",
              "    </tr>\n",
              "    <tr>\n",
              "      <th>review_content</th>\n",
              "      <td>0</td>\n",
              "    </tr>\n",
              "    <tr>\n",
              "      <th>img_link</th>\n",
              "      <td>0</td>\n",
              "    </tr>\n",
              "    <tr>\n",
              "      <th>product_link</th>\n",
              "      <td>0</td>\n",
              "    </tr>\n",
              "  </tbody>\n",
              "</table>\n",
              "</div><br><label><b>dtype:</b> int64</label>"
            ]
          },
          "metadata": {},
          "execution_count": 15
        }
      ]
    },
    {
      "cell_type": "markdown",
      "source": [
        "**Insight**:\n",
        "\n",
        "Hanya fitur rating_count yang memiliki missing value"
      ],
      "metadata": {
        "id": "RJxEGm2RbWan"
      }
    },
    {
      "cell_type": "markdown",
      "source": [
        "### Cek Duplikat Data"
      ],
      "metadata": {
        "id": "Dtt0DtWx-fMM"
      }
    },
    {
      "cell_type": "code",
      "source": [
        "df.duplicated().sum()"
      ],
      "metadata": {
        "colab": {
          "base_uri": "https://localhost:8080/"
        },
        "id": "vYNrJ80F-kC-",
        "outputId": "3a0128df-26a9-47bc-d4ea-a1b18f857daf"
      },
      "execution_count": null,
      "outputs": [
        {
          "output_type": "execute_result",
          "data": {
            "text/plain": [
              "0"
            ]
          },
          "metadata": {},
          "execution_count": 16
        }
      ]
    },
    {
      "cell_type": "markdown",
      "source": [
        "**Insights**:\n",
        "\n",
        "Dataset tidak memiliki data duplikat."
      ],
      "metadata": {
        "id": "KkWRYrRB_hgD"
      }
    },
    {
      "cell_type": "markdown",
      "source": [
        "### Univariate Data Analysis"
      ],
      "metadata": {
        "id": "FghPSU00-MND"
      }
    },
    {
      "cell_type": "code",
      "source": [
        "df['category'].value_counts().head(5)"
      ],
      "metadata": {
        "colab": {
          "base_uri": "https://localhost:8080/",
          "height": 272
        },
        "id": "wjo9t6pZz_b6",
        "outputId": "e9830600-603d-40b4-8c89-d1984e4b987d"
      },
      "execution_count": null,
      "outputs": [
        {
          "output_type": "execute_result",
          "data": {
            "text/plain": [
              "category\n",
              "Computers&Accessories|Accessories&Peripherals|Cables&Accessories|Cables|USBCables    233\n",
              "Electronics|WearableTechnology|SmartWatches                                           76\n",
              "Electronics|Mobiles&Accessories|Smartphones&BasicMobiles|Smartphones                  68\n",
              "Electronics|HomeTheater,TV&Video|Televisions|SmartTelevisions                         63\n",
              "Electronics|Headphones,Earbuds&Accessories|Headphones|In-Ear                          52\n",
              "Name: count, dtype: int64"
            ],
            "text/html": [
              "<div>\n",
              "<style scoped>\n",
              "    .dataframe tbody tr th:only-of-type {\n",
              "        vertical-align: middle;\n",
              "    }\n",
              "\n",
              "    .dataframe tbody tr th {\n",
              "        vertical-align: top;\n",
              "    }\n",
              "\n",
              "    .dataframe thead th {\n",
              "        text-align: right;\n",
              "    }\n",
              "</style>\n",
              "<table border=\"1\" class=\"dataframe\">\n",
              "  <thead>\n",
              "    <tr style=\"text-align: right;\">\n",
              "      <th></th>\n",
              "      <th>count</th>\n",
              "    </tr>\n",
              "    <tr>\n",
              "      <th>category</th>\n",
              "      <th></th>\n",
              "    </tr>\n",
              "  </thead>\n",
              "  <tbody>\n",
              "    <tr>\n",
              "      <th>Computers&amp;Accessories|Accessories&amp;Peripherals|Cables&amp;Accessories|Cables|USBCables</th>\n",
              "      <td>233</td>\n",
              "    </tr>\n",
              "    <tr>\n",
              "      <th>Electronics|WearableTechnology|SmartWatches</th>\n",
              "      <td>76</td>\n",
              "    </tr>\n",
              "    <tr>\n",
              "      <th>Electronics|Mobiles&amp;Accessories|Smartphones&amp;BasicMobiles|Smartphones</th>\n",
              "      <td>68</td>\n",
              "    </tr>\n",
              "    <tr>\n",
              "      <th>Electronics|HomeTheater,TV&amp;Video|Televisions|SmartTelevisions</th>\n",
              "      <td>63</td>\n",
              "    </tr>\n",
              "    <tr>\n",
              "      <th>Electronics|Headphones,Earbuds&amp;Accessories|Headphones|In-Ear</th>\n",
              "      <td>52</td>\n",
              "    </tr>\n",
              "  </tbody>\n",
              "</table>\n",
              "</div><br><label><b>dtype:</b> int64</label>"
            ]
          },
          "metadata": {},
          "execution_count": 17
        }
      ]
    },
    {
      "cell_type": "markdown",
      "source": [
        "**Insights**:\n",
        "\n",
        "- Kategori di setiap transaksi bertingkat (memilik hierarki).\n",
        "- 'Computers&Accessories|Accessories&Peripherals|Cables&Accessories|Cables|USBCables' merupakan category yang paling banyak muncul."
      ],
      "metadata": {
        "id": "7NG3z_JO0EE5"
      }
    },
    {
      "cell_type": "code",
      "source": [
        "# Plot distribusi 'discount_percentage'\n",
        "plt.figure(figsize=(10, 4))\n",
        "df['discount_percentage'].value_counts().head(5).plot(kind='bar') # menampilkan 5 teratas\n",
        "plt.title(f'Distribusi discount_percentage')\n",
        "plt.ylabel('Jumlah')\n",
        "plt.xticks(rotation=45)\n",
        "plt.tight_layout()\n",
        "plt.show()"
      ],
      "metadata": {
        "colab": {
          "base_uri": "https://localhost:8080/",
          "height": 407
        },
        "id": "gAiVrVYVtSUZ",
        "outputId": "4cff8cd2-4948-4134-e8a6-636c2f7bfbf0"
      },
      "execution_count": null,
      "outputs": [
        {
          "output_type": "display_data",
          "data": {
            "text/plain": [
              "<Figure size 1000x400 with 1 Axes>"
            ],
            "image/png": "[encoded data removed]"
          },
          "metadata": {}
        }
      ]
    },
    {
      "cell_type": "markdown",
      "source": [
        "**Insights**:\n",
        "\n",
        "Persentase diskon yang paling banyak muncul yaitu 50%, 60%, 0%, 80%, dan 55%."
      ],
      "metadata": {
        "id": "B2z358_1IGAT"
      }
    },
    {
      "cell_type": "code",
      "source": [
        "# Plot distribusi 'rating'\n",
        "plt.figure(figsize=(10, 4))\n",
        "df['rating'].value_counts().head(5).plot(kind='bar') # menampilkan 5 teratas\n",
        "plt.title(f'Distribusi rating')\n",
        "plt.ylabel('Jumlah')\n",
        "plt.xticks(rotation=45)\n",
        "plt.tight_layout()\n",
        "plt.show()"
      ],
      "metadata": {
        "colab": {
          "base_uri": "https://localhost:8080/",
          "height": 407
        },
        "id": "USf-mhZq0T43",
        "outputId": "32de32f4-4e39-499e-ca90-1d1da551ec10"
      },
      "execution_count": null,
      "outputs": [
        {
          "output_type": "display_data",
          "data": {
            "text/plain": [
              "<Figure size 1000x400 with 1 Axes>"
            ],
            "image/png": "[encoded data removed]"
          },
          "metadata": {}
        }
      ]
    },
    {
      "cell_type": "markdown",
      "source": [
        "**Insights**:\n",
        "\n",
        "Rating yang diberikan paling banyak berada pada nilai 4.1, 4.3, 4.2, 4.0, dan 3.9. Artinya kualitas produk baik."
      ],
      "metadata": {
        "id": "r_CkYlc00Wbj"
      }
    },
    {
      "cell_type": "markdown",
      "source": [
        "## Model Development dengan Content Based Filtering"
      ],
      "metadata": {
        "id": "SDeQyUuy9hRg"
      }
    },
    {
      "cell_type": "markdown",
      "source": [
        "### Data Preparation"
      ],
      "metadata": {
        "id": "eBVY1egl8Okf"
      }
    },
    {
      "cell_type": "code",
      "source": [
        "# Menyalin fitur yang akan digunakan\n",
        "preparation_df = df[['product_name', 'category', 'about_product',\n",
        "                     'discounted_price', 'actual_price',\n",
        "                     'discount_percentage', 'rating', 'rating_count']].copy()"
      ],
      "metadata": {
        "id": "WIUreDDBPC4w"
      },
      "execution_count": null,
      "outputs": []
    },
    {
      "cell_type": "code",
      "source": [
        "preparation_df.info()"
      ],
      "metadata": {
        "colab": {
          "base_uri": "https://localhost:8080/"
        },
        "id": "PNwjUp3IdRG_",
        "outputId": "b975d317-e6ac-4fbf-ad61-3d4969202f27"
      },
      "execution_count": null,
      "outputs": [
        {
          "output_type": "stream",
          "name": "stdout",
          "text": [
            "<class 'pandas.core.frame.DataFrame'>\n",
            "RangeIndex: 1465 entries, 0 to 1464\n",
            "Data columns (total 8 columns):\n",
            " #   Column               Non-Null Count  Dtype \n",
            "---  ------               --------------  ----- \n",
            " 0   product_name         1465 non-null   object\n",
            " 1   category             1465 non-null   object\n",
            " 2   about_product        1465 non-null   object\n",
            " 3   discounted_price     1465 non-null   object\n",
            " 4   actual_price         1465 non-null   object\n",
            " 5   discount_percentage  1465 non-null   object\n",
            " 6   rating               1465 non-null   object\n",
            " 7   rating_count         1463 non-null   object\n",
            "dtypes: object(8)\n",
            "memory usage: 91.7+ KB\n"
          ]
        }
      ]
    },
    {
      "cell_type": "code",
      "source": [
        "preparation_df.head()"
      ],
      "metadata": {
        "colab": {
          "base_uri": "https://localhost:8080/",
          "height": 449
        },
        "id": "G1tqEIkX2d3n",
        "outputId": "eeda9e98-c9fc-46cb-a118-1d8cbe8f4851"
      },
      "execution_count": null,
      "outputs": [
        {
          "output_type": "execute_result",
          "data": {
            "text/plain": [
              "                                        product_name  \\\n",
              "0  Wayona Nylon Braided USB to Lightning Fast Cha...   \n",
              "1  Ambrane Unbreakable 60W / 3A Fast Charging 1.5...   \n",
              "2  Sounce Fast Phone Charging Cable & Data Sync U...   \n",
              "3  boAt Deuce USB 300 2 in 1 Type-C & Micro USB S...   \n",
              "4  Portronics Konnect L 1.2M Fast Charging 3A 8 P...   \n",
              "\n",
              "                                            category  \\\n",
              "0  Computers&Accessories|Accessories&Peripherals|...   \n",
              "1  Computers&Accessories|Accessories&Peripherals|...   \n",
              "2  Computers&Accessories|Accessories&Peripherals|...   \n",
              "3  Computers&Accessories|Accessories&Peripherals|...   \n",
              "4  Computers&Accessories|Accessories&Peripherals|...   \n",
              "\n",
              "                                       about_product discounted_price  \\\n",
              "0  High Compatibility : Compatible With iPhone 12...             ₹399   \n",
              "1  Compatible with all Type C enabled devices, be...             ₹199   \n",
              "2  【 Fast Charger& Data Sync】-With built-in safet...             ₹199   \n",
              "3  The boAt Deuce USB 300 2 in 1 cable is compati...             ₹329   \n",
              "4  [CHARGE & SYNC FUNCTION]- This cable comes wit...             ₹154   \n",
              "\n",
              "  actual_price discount_percentage rating rating_count  \n",
              "0       ₹1,099                 64%    4.2       24,269  \n",
              "1         ₹349                 43%    4.0       43,994  \n",
              "2       ₹1,899                 90%    3.9        7,928  \n",
              "3         ₹699                 53%    4.2       94,363  \n",
              "4         ₹399                 61%    4.2       16,905  "
            ],
            "text/html": [
              "\n",
              "  <div id=\"df-8cb0daf9-3168-4074-81d2-b3f16be24ce8\" class=\"colab-df-container\">\n",
              "    <div>\n",
              "<style scoped>\n",
              "    .dataframe tbody tr th:only-of-type {\n",
              "        vertical-align: middle;\n",
              "    }\n",
              "\n",
              "    .dataframe tbody tr th {\n",
              "        vertical-align: top;\n",
              "    }\n",
              "\n",
              "    .dataframe thead th {\n",
              "        text-align: right;\n",
              "    }\n",
              "</style>\n",
              "<table border=\"1\" class=\"dataframe\">\n",
              "  <thead>\n",
              "    <tr style=\"text-align: right;\">\n",
              "      <th></th>\n",
              "      <th>product_name</th>\n",
              "      <th>category</th>\n",
              "      <th>about_product</th>\n",
              "      <th>discounted_price</th>\n",
              "      <th>actual_price</th>\n",
              "      <th>discount_percentage</th>\n",
              "      <th>rating</th>\n",
              "      <th>rating_count</th>\n",
              "    </tr>\n",
              "  </thead>\n",
              "  <tbody>\n",
              "    <tr>\n",
              "      <th>0</th>\n",
              "      <td>Wayona Nylon Braided USB to Lightning Fast Cha...</td>\n",
              "      <td>Computers&amp;Accessories|Accessories&amp;Peripherals|...</td>\n",
              "      <td>High Compatibility : Compatible With iPhone 12...</td>\n",
              "      <td>₹399</td>\n",
              "      <td>₹1,099</td>\n",
              "      <td>64%</td>\n",
              "      <td>4.2</td>\n",
              "      <td>24,269</td>\n",
              "    </tr>\n",
              "    <tr>\n",
              "      <th>1</th>\n",
              "      <td>Ambrane Unbreakable 60W / 3A Fast Charging 1.5...</td>\n",
              "      <td>Computers&amp;Accessories|Accessories&amp;Peripherals|...</td>\n",
              "      <td>Compatible with all Type C enabled devices, be...</td>\n",
              "      <td>₹199</td>\n",
              "      <td>₹349</td>\n",
              "      <td>43%</td>\n",
              "      <td>4.0</td>\n",
              "      <td>43,994</td>\n",
              "    </tr>\n",
              "    <tr>\n",
              "      <th>2</th>\n",
              "      <td>Sounce Fast Phone Charging Cable &amp; Data Sync U...</td>\n",
              "      <td>Computers&amp;Accessories|Accessories&amp;Peripherals|...</td>\n",
              "      <td>【 Fast Charger&amp; Data Sync】-With built-in safet...</td>\n",
              "      <td>₹199</td>\n",
              "      <td>₹1,899</td>\n",
              "      <td>90%</td>\n",
              "      <td>3.9</td>\n",
              "      <td>7,928</td>\n",
              "    </tr>\n",
              "    <tr>\n",
              "      <th>3</th>\n",
              "      <td>boAt Deuce USB 300 2 in 1 Type-C &amp; Micro USB S...</td>\n",
              "      <td>Computers&amp;Accessories|Accessories&amp;Peripherals|...</td>\n",
              "      <td>The boAt Deuce USB 300 2 in 1 cable is compati...</td>\n",
              "      <td>₹329</td>\n",
              "      <td>₹699</td>\n",
              "      <td>53%</td>\n",
              "      <td>4.2</td>\n",
              "      <td>94,363</td>\n",
              "    </tr>\n",
              "    <tr>\n",
              "      <th>4</th>\n",
              "      <td>Portronics Konnect L 1.2M Fast Charging 3A 8 P...</td>\n",
              "      <td>Computers&amp;Accessories|Accessories&amp;Peripherals|...</td>\n",
              "      <td>[CHARGE &amp; SYNC FUNCTION]- This cable comes wit...</td>\n",
              "      <td>₹154</td>\n",
              "      <td>₹399</td>\n",
              "      <td>61%</td>\n",
              "      <td>4.2</td>\n",
              "      <td>16,905</td>\n",
              "    </tr>\n",
              "  </tbody>\n",
              "</table>\n",
              "</div>\n",
              "    <div class=\"colab-df-buttons\">\n",
              "\n",
              "  <div class=\"colab-df-container\">\n",
              "    <button class=\"colab-df-convert\" onclick=\"convertToInteractive('df-8cb0daf9-3168-4074-81d2-b3f16be24ce8')\"\n",
              "            title=\"Convert this dataframe to an interactive table.\"\n",
              "            style=\"display:none;\">\n",
              "\n",
              "  <svg xmlns=\"http://www.w3.org/2000/svg\" height=\"24px\" viewBox=\"0 -960 960 960\">\n",
              "    <path d=\"M120-120v-720h720v720H120Zm60-500h600v-160H180v160Zm220 220h160v-160H400v160Zm0 220h160v-160H400v160ZM180-400h160v-160H180v160Zm440 0h160v-160H620v160ZM180-180h160v-160H180v160Zm440 0h160v-160H620v160Z\"/>\n",
              "  </svg>\n",
              "    </button>\n",
              "\n",
              "  <style>\n",
              "    .colab-df-container {\n",
              "      display:flex;\n",
              "      gap: 12px;\n",
              "    }\n",
              "\n",
              "    .colab-df-convert {\n",
              "      background-color: #E8F0FE;\n",
              "      border: none;\n",
              "      border-radius: 50%;\n",
              "      cursor: pointer;\n",
              "      display: none;\n",
              "      fill: #1967D2;\n",
              "      height: 32px;\n",
              "      padding: 0 0 0 0;\n",
              "      width: 32px;\n",
              "    }\n",
              "\n",
              "    .colab-df-convert:hover {\n",
              "      background-color: #E2EBFA;\n",
              "      box-shadow: 0px 1px 2px rgba(60, 64, 67, 0.3), 0px 1px 3px 1px rgba(60, 64, 67, 0.15);\n",
              "      fill: #174EA6;\n",
              "    }\n",
              "\n",
              "    .colab-df-buttons div {\n",
              "      margin-bottom: 4px;\n",
              "    }\n",
              "\n",
              "    [theme=dark] .colab-df-convert {\n",
              "      background-color: #3B4455;\n",
              "      fill: #D2E3FC;\n",
              "    }\n",
              "\n",
              "    [theme=dark] .colab-df-convert:hover {\n",
              "      background-color: #434B5C;\n",
              "      box-shadow: 0px 1px 3px 1px rgba(0, 0, 0, 0.15);\n",
              "      filter: drop-shadow(0px 1px 2px rgba(0, 0, 0, 0.3));\n",
              "      fill: #FFFFFF;\n",
              "    }\n",
              "  </style>\n",
              "\n",
              "    <script>\n",
              "      const buttonEl =\n",
              "        document.querySelector('#df-8cb0daf9-3168-4074-81d2-b3f16be24ce8 button.colab-df-convert');\n",
              "      buttonEl.style.display =\n",
              "        google.colab.kernel.accessAllowed ? 'block' : 'none';\n",
              "\n",
              "      async function convertToInteractive(key) {\n",
              "        const element = document.querySelector('#df-8cb0daf9-3168-4074-81d2-b3f16be24ce8');\n",
              "        const dataTable =\n",
              "          await google.colab.kernel.invokeFunction('convertToInteractive',\n",
              "                                                    [key], {});\n",
              "        if (!dataTable) return;\n",
              "\n",
              "        const docLinkHtml = 'Like what you see? Visit the ' +\n",
              "          '<a target=\"_blank\" href=https://colab.research.google.com/notebooks/data_table.ipynb>data table notebook</a>'\n",
              "          + ' to learn more about interactive tables.';\n",
              "        element.innerHTML = '';\n",
              "        dataTable['output_type'] = 'display_data';\n",
              "        await google.colab.output.renderOutput(dataTable, element);\n",
              "        const docLink = document.createElement('div');\n",
              "        docLink.innerHTML = docLinkHtml;\n",
              "        element.appendChild(docLink);\n",
              "      }\n",
              "    </script>\n",
              "  </div>\n",
              "\n",
              "\n",
              "    <div id=\"df-cca60546-6e6d-425b-8bef-ff94dda09055\">\n",
              "      <button class=\"colab-df-quickchart\" onclick=\"quickchart('df-cca60546-6e6d-425b-8bef-ff94dda09055')\"\n",
              "                title=\"Suggest charts\"\n",
              "                style=\"display:none;\">\n",
              "\n",
              "<svg xmlns=\"http://www.w3.org/2000/svg\" height=\"24px\"viewBox=\"0 0 24 24\"\n",
              "     width=\"24px\">\n",
              "    <g>\n",
              "        <path d=\"M19 3H5c-1.1 0-2 .9-2 2v14c0 1.1.9 2 2 2h14c1.1 0 2-.9 2-2V5c0-1.1-.9-2-2-2zM9 17H7v-7h2v7zm4 0h-2V7h2v10zm4 0h-2v-4h2v4z\"/>\n",
              "    </g>\n",
              "</svg>\n",
              "      </button>\n",
              "\n",
              "<style>\n",
              "  .colab-df-quickchart {\n",
              "      --bg-color: #E8F0FE;\n",
              "      --fill-color: #1967D2;\n",
              "      --hover-bg-color: #E2EBFA;\n",
              "      --hover-fill-color: #174EA6;\n",
              "      --disabled-fill-color: #AAA;\n",
              "      --disabled-bg-color: #DDD;\n",
              "  }\n",
              "\n",
              "  [theme=dark] .colab-df-quickchart {\n",
              "      --bg-color: #3B4455;\n",
              "      --fill-color: #D2E3FC;\n",
              "      --hover-bg-color: #434B5C;\n",
              "      --hover-fill-color: #FFFFFF;\n",
              "      --disabled-bg-color: #3B4455;\n",
              "      --disabled-fill-color: #666;\n",
              "  }\n",
              "\n",
              "  .colab-df-quickchart {\n",
              "    background-color: var(--bg-color);\n",
              "    border: none;\n",
              "    border-radius: 50%;\n",
              "    cursor: pointer;\n",
              "    display: none;\n",
              "    fill: var(--fill-color);\n",
              "    height: 32px;\n",
              "    padding: 0;\n",
              "    width: 32px;\n",
              "  }\n",
              "\n",
              "  .colab-df-quickchart:hover {\n",
              "    background-color: var(--hover-bg-color);\n",
              "    box-shadow: 0 1px 2px rgba(60, 64, 67, 0.3), 0 1px 3px 1px rgba(60, 64, 67, 0.15);\n",
              "    fill: var(--button-hover-fill-color);\n",
              "  }\n",
              "\n",
              "  .colab-df-quickchart-complete:disabled,\n",
              "  .colab-df-quickchart-complete:disabled:hover {\n",
              "    background-color: var(--disabled-bg-color);\n",
              "    fill: var(--disabled-fill-color);\n",
              "    box-shadow: none;\n",
              "  }\n",
              "\n",
              "  .colab-df-spinner {\n",
              "    border: 2px solid var(--fill-color);\n",
              "    border-color: transparent;\n",
              "    border-bottom-color: var(--fill-color);\n",
              "    animation:\n",
              "      spin 1s steps(1) infinite;\n",
              "  }\n",
              "\n",
              "  @keyframes spin {\n",
              "    0% {\n",
              "      border-color: transparent;\n",
              "      border-bottom-color: var(--fill-color);\n",
              "      border-left-color: var(--fill-color);\n",
              "    }\n",
              "    20% {\n",
              "      border-color: transparent;\n",
              "      border-left-color: var(--fill-color);\n",
              "      border-top-color: var(--fill-color);\n",
              "    }\n",
              "    30% {\n",
              "      border-color: transparent;\n",
              "      border-left-color: var(--fill-color);\n",
              "      border-top-color: var(--fill-color);\n",
              "      border-right-color: var(--fill-color);\n",
              "    }\n",
              "    40% {\n",
              "      border-color: transparent;\n",
              "      border-right-color: var(--fill-color);\n",
              "      border-top-color: var(--fill-color);\n",
              "    }\n",
              "    60% {\n",
              "      border-color: transparent;\n",
              "      border-right-color: var(--fill-color);\n",
              "    }\n",
              "    80% {\n",
              "      border-color: transparent;\n",
              "      border-right-color: var(--fill-color);\n",
              "      border-bottom-color: var(--fill-color);\n",
              "    }\n",
              "    90% {\n",
              "      border-color: transparent;\n",
              "      border-bottom-color: var(--fill-color);\n",
              "    }\n",
              "  }\n",
              "</style>\n",
              "\n",
              "      <script>\n",
              "        async function quickchart(key) {\n",
              "          const quickchartButtonEl =\n",
              "            document.querySelector('#' + key + ' button');\n",
              "          quickchartButtonEl.disabled = true;  // To prevent multiple clicks.\n",
              "          quickchartButtonEl.classList.add('colab-df-spinner');\n",
              "          try {\n",
              "            const charts = await google.colab.kernel.invokeFunction(\n",
              "                'suggestCharts', [key], {});\n",
              "          } catch (error) {\n",
              "            console.error('Error during call to suggestCharts:', error);\n",
              "          }\n",
              "          quickchartButtonEl.classList.remove('colab-df-spinner');\n",
              "          quickchartButtonEl.classList.add('colab-df-quickchart-complete');\n",
              "        }\n",
              "        (() => {\n",
              "          let quickchartButtonEl =\n",
              "            document.querySelector('#df-cca60546-6e6d-425b-8bef-ff94dda09055 button');\n",
              "          quickchartButtonEl.style.display =\n",
              "            google.colab.kernel.accessAllowed ? 'block' : 'none';\n",
              "        })();\n",
              "      </script>\n",
              "    </div>\n",
              "\n",
              "    </div>\n",
              "  </div>\n"
            ],
            "application/vnd.google.colaboratory.intrinsic+json": {
              "type": "dataframe",
              "variable_name": "preparation_df",
              "summary": "{\n  \"name\": \"preparation_df\",\n  \"rows\": 1465,\n  \"fields\": [\n    {\n      \"column\": \"product_name\",\n      \"properties\": {\n        \"dtype\": \"string\",\n        \"num_unique_values\": 1337,\n        \"samples\": [\n          \"Glun Multipurpose Portable Electronic Digital Weighing Scale Weight Machine (10 Kg - with Back Light)\",\n          \"Akiara\\u00ae - Makes life easy Mini Sewing Machine with Table Set | Tailoring Machine | Hand Sewing Machine with extension table, foot pedal, adapter\",\n          \"TTK Prestige Limited Orion Mixer Grinder 500 Watts, 3 Jars (1200ml, 1000ml, 500ml) (Red)\"\n        ],\n        \"semantic_type\": \"\",\n        \"description\": \"\"\n      }\n    },\n    {\n      \"column\": \"category\",\n      \"properties\": {\n        \"dtype\": \"category\",\n        \"num_unique_values\": 211,\n        \"samples\": [\n          \"Electronics|Mobiles&Accessories|MobileAccessories|Photo&VideoAccessories|SelfieSticks\",\n          \"Home&Kitchen|Kitchen&HomeAppliances|Coffee,Tea&Espresso|CoffeeGrinders|ElectricGrinders\",\n          \"Computers&Accessories|Accessories&Peripherals|HardDriveAccessories|Caddies\"\n        ],\n        \"semantic_type\": \"\",\n        \"description\": \"\"\n      }\n    },\n    {\n      \"column\": \"about_product\",\n      \"properties\": {\n        \"dtype\": \"string\",\n        \"num_unique_values\": 1293,\n        \"samples\": [\n          \"Advanced Bluetooth calling: Upgrade to an effortless calling experience - attend/reject calls and dial numbers, from your wrist.;Digital crown: Navigate through the watch, adjust volume and change the watch face via the fully-functional crown.|1.72\\u2019\\u2019display: ColorFit Pro 4 features 1.72\\u2019\\u2019 TFT LCD with 25% more screen area than ColorFit Pro 3.;Vivid clarity: View information under the brightest sun, thanks to 311 PPI and 500 nits of brightness.|60Hz refresh rate: Get smoother scrolling & navigation experience.;100 sports modes: Take your pick from 100 sports modes and ace your game.|Noise Health Suite: Know how your body is doing with the battery of fitness features.;Productivity suite: Get more work done with quick reply options, stock market updates, alarm and disconnect with smart DND when you want to.; Water Resistance Level: Water Resistant|Item Type Name: Smartwatch; Connectivity Technology: Usb; Included Components: \\u200eSmartwatch, Magnetic Charger, User Manual, Warranty Card\",\n          \"Fire-Boltt is India' No 1 Wearable Watch Brand Q122 by IDC Worldwide quarterly wearable device tracker Q122.\\u30101.69\\u201d HD Large Touch Screen\\u3011- Fire-Boltt Ninja 3 comes with a 1.69\\u201d HD Full Touch Display for smooth swipes and clear vision;\\u3010SPO2/ Oxygen, Heart Rate\\u3011 - Fire-Boltt Ninja 3 Smartwatch comes with real time 24*7 SPO2 / Blood Oxygen tracking, Dynamic Heart Rate Monitoring (If a patient is suffering from Covid 19 please use a medical device prescribed by the Doctor)|\\u301060 workout modes\\u3011- This smartwatch consists of 60 sports mode to track. Keep a track of all your activities and compare history to analyse your performance. Count steps, distance, and calories burned.;\\u3010IP68 Water Resistant\\u3011- This smartwatch can withstand dust, spills, raindrops and is sweatproof too|\\u3010POWERFUL BATTERY\\u3011 - About 7 days battery life and a Standby Time of 25 Days \\u3010Multiple Watch Faces\\u3011- Unlimited Customized Built in Watch Faces and also multiple watch faces through the app;\\u3010Stay Social Stay Updated\\u3011 \\u2013 Inbuilt Social Media Notifications.|\\u3010All In One Smart Coach\\u3011 - Track your Daily Steps, Sleep, Fitness, Sports, Heart Rate and SPO2 \\u3010Enjoy Music And Camera Control\\u3011 \\u3010IP68 Water Resistant\\u3011- This smartwatch can withstand dust, spills, raindrops and is sweatproof too; Water Resistance Level: water_resistant|Connectivity Technology: Bluetooth; Clasp Type: Tang Buckle; Compatible Devices: Smartphonetablet; Human Interface Input: Touch Screenbuttons; Item Type Name: Smart Watch; Included Components: 1 Smartwatch, 1 Manual, 1 Magnetic Charger, 1 Warranty Card; Band Color: Green; Band Material Type: Silicone; Case Material Type: Plastic; Color Name: Green\",\n          \"Keyboard : Standard keyboard|Rupee key, Comfortable|Silent Durable keys|Mouse : Ergonomic design, Accurate optical sensor|High resolution enabling faster navigation\"\n        ],\n        \"semantic_type\": \"\",\n        \"description\": \"\"\n      }\n    },\n    {\n      \"column\": \"discounted_price\",\n      \"properties\": {\n        \"dtype\": \"category\",\n        \"num_unique_values\": 550,\n        \"samples\": [\n          \"\\u20b920,999\",\n          \"\\u20b91,699\",\n          \"\\u20b9419\"\n        ],\n        \"semantic_type\": \"\",\n        \"description\": \"\"\n      }\n    },\n    {\n      \"column\": \"actual_price\",\n      \"properties\": {\n        \"dtype\": \"category\",\n        \"num_unique_values\": 449,\n        \"samples\": [\n          \"\\u20b93,210\",\n          \"\\u20b91,129\",\n          \"\\u20b94,500\"\n        ],\n        \"semantic_type\": \"\",\n        \"description\": \"\"\n      }\n    },\n    {\n      \"column\": \"discount_percentage\",\n      \"properties\": {\n        \"dtype\": \"category\",\n        \"num_unique_values\": 92,\n        \"samples\": [\n          \"86%\",\n          \"72%\",\n          \"26%\"\n        ],\n        \"semantic_type\": \"\",\n        \"description\": \"\"\n      }\n    },\n    {\n      \"column\": \"rating\",\n      \"properties\": {\n        \"dtype\": \"category\",\n        \"num_unique_values\": 28,\n        \"samples\": [\n          \"3.6\",\n          \"3\",\n          \"3.3\"\n        ],\n        \"semantic_type\": \"\",\n        \"description\": \"\"\n      }\n    },\n    {\n      \"column\": \"rating_count\",\n      \"properties\": {\n        \"dtype\": \"string\",\n        \"num_unique_values\": 1143,\n        \"samples\": [\n          \"197\",\n          \"7,945\",\n          \"1,40,036\"\n        ],\n        \"semantic_type\": \"\",\n        \"description\": \"\"\n      }\n    }\n  ]\n}"
            }
          },
          "metadata": {},
          "execution_count": 64
        }
      ]
    },
    {
      "cell_type": "code",
      "source": [
        "# Cek duplikat\n",
        "preparation_df.duplicated().sum()"
      ],
      "metadata": {
        "colab": {
          "base_uri": "https://localhost:8080/"
        },
        "id": "qvK3loTYUVhV",
        "outputId": "76b11b3e-9e99-459d-db37-7a95c94b54c1"
      },
      "execution_count": null,
      "outputs": [
        {
          "output_type": "execute_result",
          "data": {
            "text/plain": [
              "84"
            ]
          },
          "metadata": {},
          "execution_count": 65
        }
      ]
    },
    {
      "cell_type": "code",
      "source": [
        "# Menghapus data duplikat\n",
        "preparation_df = preparation_df.drop_duplicates()\n",
        "print(preparation_df.shape)"
      ],
      "metadata": {
        "colab": {
          "base_uri": "https://localhost:8080/"
        },
        "id": "g8SVtFE4VVAo",
        "outputId": "a412a4ee-5493-4120-eb49-f6ab94798e57"
      },
      "execution_count": null,
      "outputs": [
        {
          "output_type": "stream",
          "name": "stdout",
          "text": [
            "(1381, 8)\n"
          ]
        }
      ]
    },
    {
      "cell_type": "code",
      "source": [
        "# Mengisi nilai NaN dengan 0 kemudian menghapus koma pada rating_count dan mengonversinya ke int\n",
        "preparation_df['rating_count'] = preparation_df['rating_count'].str.replace(',', '').fillna('0').astype(int)"
      ],
      "metadata": {
        "id": "eRKbKMHvckl-"
      },
      "execution_count": null,
      "outputs": []
    },
    {
      "cell_type": "code",
      "source": [
        "# Mengecek nilai rating\n",
        "preparation_df['rating'].unique()"
      ],
      "metadata": {
        "colab": {
          "base_uri": "https://localhost:8080/"
        },
        "id": "draP8Km0hJ3A",
        "outputId": "102ba508-96d5-4430-8356-d98b70dae64d"
      },
      "execution_count": null,
      "outputs": [
        {
          "output_type": "execute_result",
          "data": {
            "text/plain": [
              "array(['4.2', '4.0', '3.9', '4.1', '4.3', '4.4', '4.5', '3.7', '3.3',\n",
              "       '3.6', '3.4', '3.8', '3.5', '4.6', '3.2', '5.0', '4.7', '3.0',\n",
              "       '2.8', '4', '3.1', '4.8', '2.3', '|', '2', '3', '2.6', '2.9'],\n",
              "      dtype=object)"
            ]
          },
          "metadata": {},
          "execution_count": 71
        }
      ]
    },
    {
      "cell_type": "code",
      "source": [
        "# Mengonversi kolom rating menjadi float, mengganti nilai non-numerik (seperti '|') dengan NaN\n",
        "preparation_df['rating'] = pd.to_numeric(preparation_df['rating'], errors='coerce')\n",
        "\n",
        "# Menangani NaN dengan rata-rata rating\n",
        "preparation_df['rating'] = preparation_df['rating'].fillna(preparation_df['rating'].mean())\n",
        "\n",
        "# Memeriksa hasil\n",
        "print(preparation_df['rating'].head())"
      ],
      "metadata": {
        "colab": {
          "base_uri": "https://localhost:8080/"
        },
        "id": "9t9yY7slhAvE",
        "outputId": "94ff17cf-faba-4ad3-acce-25ed41b34336"
      },
      "execution_count": null,
      "outputs": [
        {
          "output_type": "stream",
          "name": "stdout",
          "text": [
            "0    4.2\n",
            "1    4.0\n",
            "2    3.9\n",
            "3    4.2\n",
            "4    4.2\n",
            "Name: rating, dtype: float64\n"
          ]
        }
      ]
    },
    {
      "cell_type": "code",
      "source": [
        "# Mengganti tanda ₹ menjadi , dan mengonversi tipe data ke float\n",
        "def clean_price(price_str):\n",
        "    return float(price_str.replace('₹', '').replace(',', '').strip())\n",
        "\n",
        "preparation_df['discounted_price'] = preparation_df['discounted_price'].apply(clean_price)\n",
        "preparation_df['actual_price'] = preparation_df['actual_price'].apply(clean_price)"
      ],
      "metadata": {
        "id": "Cwx8S_NjWfiR"
      },
      "execution_count": null,
      "outputs": []
    },
    {
      "cell_type": "code",
      "source": [
        "# Menghilangkan tanda % dan konversi ke tipe float\n",
        "preparation_df['discount_percentage'] = preparation_df['discount_percentage'].str.replace('%', '').astype(float)"
      ],
      "metadata": {
        "id": "496Z_2gfWre4"
      },
      "execution_count": null,
      "outputs": []
    },
    {
      "cell_type": "markdown",
      "source": [
        "Fitur category pada setiap produk terdiri dari beberapa tingkatan (misalnya: Electronics | Computers | Cables). Oleh karena itu, category, product_name, dan about_product digabungkan ke dalam satu kolom teks gabungan (content_text) sebagai representasi deskriptif dari setiap produk. Selain itu, kategori yang paling spesifik (bagian paling kanan setelah simbol \"|\") juga diekstrak secara terpisah untuk eksplorasi."
      ],
      "metadata": {
        "id": "TyKF6Rq_X608"
      }
    },
    {
      "cell_type": "code",
      "source": [
        "# Memuat model bahasa Inggris spaCy\n",
        "nlp = spacy.load(\"en_core_web_sm\")\n",
        "\n",
        "# Fungsi preprocessing dengan spaCy\n",
        "def preprocess_text(text):\n",
        "    # Mengubah teks menjadi huruf kecil\n",
        "    text = str(text).lower()\n",
        "    # Mengganti karakter selain huruf dengan spasi\n",
        "    text = re.sub(r'[^a-z\\s]', ' ', text)\n",
        "\n",
        "    # Tokenisasi dan lemmatization dengan spaCy\n",
        "    doc = nlp(text)\n",
        "\n",
        "    # Menghapus stop words dan melakukan lemmatization\n",
        "    tokens = [token.lemma_ for token in doc if not token.is_stop and token.is_alpha]\n",
        "\n",
        "    # Menggabungkan token menjadi satu string\n",
        "    return ' '.join(tokens)"
      ],
      "metadata": {
        "id": "MkDi1Lj63aXP"
      },
      "execution_count": null,
      "outputs": []
    },
    {
      "cell_type": "code",
      "source": [
        "# Mengambil kategori paling spesifik (setelah tanda \"|\")\n",
        "preparation_df['category_last'] = preparation_df['category'].apply(lambda x: str(x).split('|')[-1])\n",
        "\n",
        "# Menggabungkan semua deskripsi produk\n",
        "preparation_df['content_text'] = preparation_df['product_name'].astype(str) + ' ' + \\\n",
        "                     preparation_df['about_product'].astype(str) + ' ' + \\\n",
        "                     preparation_df['category_last'].astype(str)\n",
        "\n",
        "# Text Preprocessing\n",
        "preparation_df['content_clean'] = preparation_df['content_text'].apply(preprocess_text)"
      ],
      "metadata": {
        "id": "jpDDUZrD-alK"
      },
      "execution_count": null,
      "outputs": []
    },
    {
      "cell_type": "code",
      "source": [
        "# Inisialisasi MinMaxScaler\n",
        "scaler = MinMaxScaler()\n",
        "\n",
        "# Melakukan normalisasi pada kolom numerik\n",
        "numeric_columns = ['discounted_price', 'actual_price', 'rating_count']\n",
        "\n",
        "preparation_df[numeric_columns] = scaler.fit_transform(preparation_df[numeric_columns])"
      ],
      "metadata": {
        "id": "tqFZgdz-hxCJ"
      },
      "execution_count": null,
      "outputs": []
    },
    {
      "cell_type": "code",
      "source": [
        "# Menyalin fitur numerik yang sudah dibersihkan ke dataframe baru\n",
        "numerical_features = preparation_df[numeric_columns].copy()"
      ],
      "metadata": {
        "id": "dpTzuHqwkSRr"
      },
      "execution_count": null,
      "outputs": []
    },
    {
      "cell_type": "code",
      "source": [
        "# TF-IDF untuk fitur teks\n",
        "tfidf = TfidfVectorizer(max_features=5000)\n",
        "tfidf_matrix = tfidf.fit_transform(preparation_df['content_clean'])"
      ],
      "metadata": {
        "id": "t2MPzrobOFro"
      },
      "execution_count": null,
      "outputs": []
    },
    {
      "cell_type": "markdown",
      "source": [
        "### Modeling"
      ],
      "metadata": {
        "id": "puRMWdheOBNB"
      }
    },
    {
      "cell_type": "code",
      "source": [
        "# Gabungkan TF-IDF + numerik (hasil = matriks gabungan)\n",
        "combined_features = hstack([tfidf_matrix, numerical_features])"
      ],
      "metadata": {
        "id": "xqo0Fxl8NPIR"
      },
      "execution_count": null,
      "outputs": []
    },
    {
      "cell_type": "code",
      "source": [
        "# Compute cosine similarity\n",
        "cosine_sim = cosine_similarity(combined_features)"
      ],
      "metadata": {
        "id": "9CtsiPZvd8Id"
      },
      "execution_count": null,
      "outputs": []
    },
    {
      "cell_type": "code",
      "source": [
        "# Konversi ke DataFrame untuk memudahkan indexing\n",
        "cosine_sim_df = pd.DataFrame(cosine_sim, index=preparation_df.index, columns=preparation_df.index)"
      ],
      "metadata": {
        "id": "gP_n0qqSpJ8W"
      },
      "execution_count": null,
      "outputs": []
    },
    {
      "cell_type": "markdown",
      "source": [
        "### Mendapatkan Rekomendasi"
      ],
      "metadata": {
        "id": "gYEexP98blXd"
      }
    },
    {
      "cell_type": "code",
      "source": [
        "def content_based_recommendation(product_index, similarity_matrix, products_df, k=10, threshold=0.9):\n",
        "    \"\"\"\n",
        "    Memberikan rekomendasi produk serupa berdasarkan kemiripan konten produk.\n",
        "\n",
        "    Parameters:\n",
        "    ---\n",
        "    product_index : int\n",
        "        Indeks produk yang ingin dicari rekomendasinya.\n",
        "    similarity_matrix : pd.DataFrame\n",
        "        Matriks cosine similarity antar produk.\n",
        "    products_df : pd.DataFrame\n",
        "        Data produk (minimal harus mengandung nama produk dan interest).\n",
        "    k : int\n",
        "        Jumlah rekomendasi yang dihasilkan.\n",
        "    \"\"\"\n",
        "    similarity_scores = similarity_matrix.iloc[product_index]\n",
        "    similarity_scores = similarity_scores.drop(product_index)  # Exclude self\n",
        "    filtered = similarity_scores[similarity_scores > threshold]  # Filter by threshold\n",
        "    top_k = filtered.sort_values(ascending=False).head(k)  # Take top-k\n",
        "    recommended_products = products_df.iloc[top_k.index].copy()\n",
        "    recommended_products['Similarity_Score'] = top_k.values\n",
        "    return recommended_products"
      ],
      "metadata": {
        "id": "IZER2viCaL54"
      },
      "execution_count": null,
      "outputs": []
    },
    {
      "cell_type": "code",
      "source": [
        "df.iloc[10]"
      ],
      "metadata": {
        "colab": {
          "base_uri": "https://localhost:8080/",
          "height": 586
        },
        "id": "z8yOkXkIHkD7",
        "outputId": "752bb9ae-8ecc-4d6f-f1eb-dee07bb0ca0b"
      },
      "execution_count": null,
      "outputs": [
        {
          "output_type": "execute_result",
          "data": {
            "text/plain": [
              "product_id                                                    B08CF3D7QR\n",
              "product_name           Portronics Konnect L POR-1081 Fast Charging 3A...\n",
              "category               Computers&Accessories|Accessories&Peripherals|...\n",
              "discounted_price                                                    ₹154\n",
              "actual_price                                                        ₹339\n",
              "discount_percentage                                                  55%\n",
              "rating                                                               4.3\n",
              "rating_count                                                      13,391\n",
              "about_product          [CHARGE & SYNC FUNCTION]- This cable comes wit...\n",
              "user_id                AGYLPKPZHVYKKZHOTHCTYVEDAJ4A,AGTTU64JMX722LYCN...\n",
              "user_name              Tanya,Anu,Akshay,Vishal Sagara Shetty,Swatilek...\n",
              "review_id              R11MQS7WD9C3I0,R2AKH69XQY8BY4,R8GBOLYUN5UP6,R1...\n",
              "review_title           Good for fast charge but not for data transfer...\n",
              "review_content         The cable is efficient in fast charging but in...\n",
              "img_link               https://m.media-amazon.com/images/I/31dJ+lXJq3...\n",
              "product_link           https://www.amazon.in/Portronics-POR-1081-Char...\n",
              "Name: 10, dtype: object"
            ],
            "text/html": [
              "<div>\n",
              "<style scoped>\n",
              "    .dataframe tbody tr th:only-of-type {\n",
              "        vertical-align: middle;\n",
              "    }\n",
              "\n",
              "    .dataframe tbody tr th {\n",
              "        vertical-align: top;\n",
              "    }\n",
              "\n",
              "    .dataframe thead th {\n",
              "        text-align: right;\n",
              "    }\n",
              "</style>\n",
              "<table border=\"1\" class=\"dataframe\">\n",
              "  <thead>\n",
              "    <tr style=\"text-align: right;\">\n",
              "      <th></th>\n",
              "      <th>10</th>\n",
              "    </tr>\n",
              "  </thead>\n",
              "  <tbody>\n",
              "    <tr>\n",
              "      <th>product_id</th>\n",
              "      <td>B08CF3D7QR</td>\n",
              "    </tr>\n",
              "    <tr>\n",
              "      <th>product_name</th>\n",
              "      <td>Portronics Konnect L POR-1081 Fast Charging 3A...</td>\n",
              "    </tr>\n",
              "    <tr>\n",
              "      <th>category</th>\n",
              "      <td>Computers&amp;Accessories|Accessories&amp;Peripherals|...</td>\n",
              "    </tr>\n",
              "    <tr>\n",
              "      <th>discounted_price</th>\n",
              "      <td>₹154</td>\n",
              "    </tr>\n",
              "    <tr>\n",
              "      <th>actual_price</th>\n",
              "      <td>₹339</td>\n",
              "    </tr>\n",
              "    <tr>\n",
              "      <th>discount_percentage</th>\n",
              "      <td>55%</td>\n",
              "    </tr>\n",
              "    <tr>\n",
              "      <th>rating</th>\n",
              "      <td>4.3</td>\n",
              "    </tr>\n",
              "    <tr>\n",
              "      <th>rating_count</th>\n",
              "      <td>13,391</td>\n",
              "    </tr>\n",
              "    <tr>\n",
              "      <th>about_product</th>\n",
              "      <td>[CHARGE &amp; SYNC FUNCTION]- This cable comes wit...</td>\n",
              "    </tr>\n",
              "    <tr>\n",
              "      <th>user_id</th>\n",
              "      <td>AGYLPKPZHVYKKZHOTHCTYVEDAJ4A,AGTTU64JMX722LYCN...</td>\n",
              "    </tr>\n",
              "    <tr>\n",
              "      <th>user_name</th>\n",
              "      <td>Tanya,Anu,Akshay,Vishal Sagara Shetty,Swatilek...</td>\n",
              "    </tr>\n",
              "    <tr>\n",
              "      <th>review_id</th>\n",
              "      <td>R11MQS7WD9C3I0,R2AKH69XQY8BY4,R8GBOLYUN5UP6,R1...</td>\n",
              "    </tr>\n",
              "    <tr>\n",
              "      <th>review_title</th>\n",
              "      <td>Good for fast charge but not for data transfer...</td>\n",
              "    </tr>\n",
              "    <tr>\n",
              "      <th>review_content</th>\n",
              "      <td>The cable is efficient in fast charging but in...</td>\n",
              "    </tr>\n",
              "    <tr>\n",
              "      <th>img_link</th>\n",
              "      <td>https://m.media-amazon.com/images/I/31dJ+lXJq3...</td>\n",
              "    </tr>\n",
              "    <tr>\n",
              "      <th>product_link</th>\n",
              "      <td>https://www.amazon.in/Portronics-POR-1081-Char...</td>\n",
              "    </tr>\n",
              "  </tbody>\n",
              "</table>\n",
              "</div><br><label><b>dtype:</b> object</label>"
            ]
          },
          "metadata": {},
          "execution_count": 86
        }
      ]
    },
    {
      "cell_type": "code",
      "source": [
        "# Rekomendasi untuk produk ke-10\n",
        "recommendations = content_based_recommendation(\n",
        "    product_index=10,\n",
        "    similarity_matrix=cosine_sim_df,  # <-- gunakan DataFrame di sini\n",
        "    products_df=df[['product_name', 'category', 'discounted_price']],\n",
        "    k=10,\n",
        "    threshold=0.2\n",
        ")\n",
        "\n",
        "recommendations"
      ],
      "metadata": {
        "colab": {
          "base_uri": "https://localhost:8080/",
          "height": 363
        },
        "id": "CdkyBkhLTP6H",
        "outputId": "473c9d76-9e28-4fd5-db18-c8d0fef6117c"
      },
      "execution_count": null,
      "outputs": [
        {
          "output_type": "execute_result",
          "data": {
            "text/plain": [
              "                                          product_name  \\\n",
              "14   Portronics Konnect L 1.2M POR-1401 Fast Chargi...   \n",
              "428  Portronics Konnect L POR-1081 Fast Charging 3A...   \n",
              "115  Portronics Konnect L POR-1403 Fast Charging 3A...   \n",
              "4    Portronics Konnect L 1.2M Fast Charging 3A 8 P...   \n",
              "59   Portronics Konnect L 1.2Mtr, Fast Charging 3A ...   \n",
              "454  Portronics Konnect CL 20W POR-1067 Type-C to 8...   \n",
              "13   Portronics Konnect CL 20W POR-1067 Type-C to 8...   \n",
              "486  FLiX (Beetel) USB to Type C PVC Data Sync & 2A...   \n",
              "223  Portronics Konnect L 60W PD Type C to Type C M...   \n",
              "81   Flix (Beetel) Usb To Type C Pvc Data Sync And ...   \n",
              "\n",
              "                                              category discounted_price  \\\n",
              "14   Computers&Accessories|Accessories&Peripherals|...             ₹159   \n",
              "428  Computers&Accessories|Accessories&Peripherals|...             ₹154   \n",
              "115  Computers&Accessories|Accessories&Peripherals|...             ₹210   \n",
              "4    Computers&Accessories|Accessories&Peripherals|...             ₹154   \n",
              "59   Computers&Accessories|Accessories&Peripherals|...             ₹154   \n",
              "454  Computers&Accessories|Accessories&Peripherals|...             ₹350   \n",
              "13   Computers&Accessories|Accessories&Peripherals|...             ₹350   \n",
              "486  Computers&Accessories|Accessories&Peripherals|...             ₹139   \n",
              "223  Computers&Accessories|Accessories&Peripherals|...             ₹249   \n",
              "81   Computers&Accessories|Accessories&Peripherals|...             ₹139   \n",
              "\n",
              "     Similarity_Score  \n",
              "14           0.853435  \n",
              "428          0.842072  \n",
              "115          0.833218  \n",
              "4            0.804674  \n",
              "59           0.786607  \n",
              "454          0.520841  \n",
              "13           0.520841  \n",
              "486          0.462835  \n",
              "223          0.460198  \n",
              "81           0.458636  "
            ],
            "text/html": [
              "\n",
              "  <div id=\"df-4d51d180-8b07-419e-a99e-951624e741a7\" class=\"colab-df-container\">\n",
              "    <div>\n",
              "<style scoped>\n",
              "    .dataframe tbody tr th:only-of-type {\n",
              "        vertical-align: middle;\n",
              "    }\n",
              "\n",
              "    .dataframe tbody tr th {\n",
              "        vertical-align: top;\n",
              "    }\n",
              "\n",
              "    .dataframe thead th {\n",
              "        text-align: right;\n",
              "    }\n",
              "</style>\n",
              "<table border=\"1\" class=\"dataframe\">\n",
              "  <thead>\n",
              "    <tr style=\"text-align: right;\">\n",
              "      <th></th>\n",
              "      <th>product_name</th>\n",
              "      <th>category</th>\n",
              "      <th>discounted_price</th>\n",
              "      <th>Similarity_Score</th>\n",
              "    </tr>\n",
              "  </thead>\n",
              "  <tbody>\n",
              "    <tr>\n",
              "      <th>14</th>\n",
              "      <td>Portronics Konnect L 1.2M POR-1401 Fast Chargi...</td>\n",
              "      <td>Computers&amp;Accessories|Accessories&amp;Peripherals|...</td>\n",
              "      <td>₹159</td>\n",
              "      <td>0.853435</td>\n",
              "    </tr>\n",
              "    <tr>\n",
              "      <th>428</th>\n",
              "      <td>Portronics Konnect L POR-1081 Fast Charging 3A...</td>\n",
              "      <td>Computers&amp;Accessories|Accessories&amp;Peripherals|...</td>\n",
              "      <td>₹154</td>\n",
              "      <td>0.842072</td>\n",
              "    </tr>\n",
              "    <tr>\n",
              "      <th>115</th>\n",
              "      <td>Portronics Konnect L POR-1403 Fast Charging 3A...</td>\n",
              "      <td>Computers&amp;Accessories|Accessories&amp;Peripherals|...</td>\n",
              "      <td>₹210</td>\n",
              "      <td>0.833218</td>\n",
              "    </tr>\n",
              "    <tr>\n",
              "      <th>4</th>\n",
              "      <td>Portronics Konnect L 1.2M Fast Charging 3A 8 P...</td>\n",
              "      <td>Computers&amp;Accessories|Accessories&amp;Peripherals|...</td>\n",
              "      <td>₹154</td>\n",
              "      <td>0.804674</td>\n",
              "    </tr>\n",
              "    <tr>\n",
              "      <th>59</th>\n",
              "      <td>Portronics Konnect L 1.2Mtr, Fast Charging 3A ...</td>\n",
              "      <td>Computers&amp;Accessories|Accessories&amp;Peripherals|...</td>\n",
              "      <td>₹154</td>\n",
              "      <td>0.786607</td>\n",
              "    </tr>\n",
              "    <tr>\n",
              "      <th>454</th>\n",
              "      <td>Portronics Konnect CL 20W POR-1067 Type-C to 8...</td>\n",
              "      <td>Computers&amp;Accessories|Accessories&amp;Peripherals|...</td>\n",
              "      <td>₹350</td>\n",
              "      <td>0.520841</td>\n",
              "    </tr>\n",
              "    <tr>\n",
              "      <th>13</th>\n",
              "      <td>Portronics Konnect CL 20W POR-1067 Type-C to 8...</td>\n",
              "      <td>Computers&amp;Accessories|Accessories&amp;Peripherals|...</td>\n",
              "      <td>₹350</td>\n",
              "      <td>0.520841</td>\n",
              "    </tr>\n",
              "    <tr>\n",
              "      <th>486</th>\n",
              "      <td>FLiX (Beetel) USB to Type C PVC Data Sync &amp; 2A...</td>\n",
              "      <td>Computers&amp;Accessories|Accessories&amp;Peripherals|...</td>\n",
              "      <td>₹139</td>\n",
              "      <td>0.462835</td>\n",
              "    </tr>\n",
              "    <tr>\n",
              "      <th>223</th>\n",
              "      <td>Portronics Konnect L 60W PD Type C to Type C M...</td>\n",
              "      <td>Computers&amp;Accessories|Accessories&amp;Peripherals|...</td>\n",
              "      <td>₹249</td>\n",
              "      <td>0.460198</td>\n",
              "    </tr>\n",
              "    <tr>\n",
              "      <th>81</th>\n",
              "      <td>Flix (Beetel) Usb To Type C Pvc Data Sync And ...</td>\n",
              "      <td>Computers&amp;Accessories|Accessories&amp;Peripherals|...</td>\n",
              "      <td>₹139</td>\n",
              "      <td>0.458636</td>\n",
              "    </tr>\n",
              "  </tbody>\n",
              "</table>\n",
              "</div>\n",
              "    <div class=\"colab-df-buttons\">\n",
              "\n",
              "  <div class=\"colab-df-container\">\n",
              "    <button class=\"colab-df-convert\" onclick=\"convertToInteractive('df-4d51d180-8b07-419e-a99e-951624e741a7')\"\n",
              "            title=\"Convert this dataframe to an interactive table.\"\n",
              "            style=\"display:none;\">\n",
              "\n",
              "  <svg xmlns=\"http://www.w3.org/2000/svg\" height=\"24px\" viewBox=\"0 -960 960 960\">\n",
              "    <path d=\"M120-120v-720h720v720H120Zm60-500h600v-160H180v160Zm220 220h160v-160H400v160Zm0 220h160v-160H400v160ZM180-400h160v-160H180v160Zm440 0h160v-160H620v160ZM180-180h160v-160H180v160Zm440 0h160v-160H620v160Z\"/>\n",
              "  </svg>\n",
              "    </button>\n",
              "\n",
              "  <style>\n",
              "    .colab-df-container {\n",
              "      display:flex;\n",
              "      gap: 12px;\n",
              "    }\n",
              "\n",
              "    .colab-df-convert {\n",
              "      background-color: #E8F0FE;\n",
              "      border: none;\n",
              "      border-radius: 50%;\n",
              "      cursor: pointer;\n",
              "      display: none;\n",
              "      fill: #1967D2;\n",
              "      height: 32px;\n",
              "      padding: 0 0 0 0;\n",
              "      width: 32px;\n",
              "    }\n",
              "\n",
              "    .colab-df-convert:hover {\n",
              "      background-color: #E2EBFA;\n",
              "      box-shadow: 0px 1px 2px rgba(60, 64, 67, 0.3), 0px 1px 3px 1px rgba(60, 64, 67, 0.15);\n",
              "      fill: #174EA6;\n",
              "    }\n",
              "\n",
              "    .colab-df-buttons div {\n",
              "      margin-bottom: 4px;\n",
              "    }\n",
              "\n",
              "    [theme=dark] .colab-df-convert {\n",
              "      background-color: #3B4455;\n",
              "      fill: #D2E3FC;\n",
              "    }\n",
              "\n",
              "    [theme=dark] .colab-df-convert:hover {\n",
              "      background-color: #434B5C;\n",
              "      box-shadow: 0px 1px 3px 1px rgba(0, 0, 0, 0.15);\n",
              "      filter: drop-shadow(0px 1px 2px rgba(0, 0, 0, 0.3));\n",
              "      fill: #FFFFFF;\n",
              "    }\n",
              "  </style>\n",
              "\n",
              "    <script>\n",
              "      const buttonEl =\n",
              "        document.querySelector('#df-4d51d180-8b07-419e-a99e-951624e741a7 button.colab-df-convert');\n",
              "      buttonEl.style.display =\n",
              "        google.colab.kernel.accessAllowed ? 'block' : 'none';\n",
              "\n",
              "      async function convertToInteractive(key) {\n",
              "        const element = document.querySelector('#df-4d51d180-8b07-419e-a99e-951624e741a7');\n",
              "        const dataTable =\n",
              "          await google.colab.kernel.invokeFunction('convertToInteractive',\n",
              "                                                    [key], {});\n",
              "        if (!dataTable) return;\n",
              "\n",
              "        const docLinkHtml = 'Like what you see? Visit the ' +\n",
              "          '<a target=\"_blank\" href=https://colab.research.google.com/notebooks/data_table.ipynb>data table notebook</a>'\n",
              "          + ' to learn more about interactive tables.';\n",
              "        element.innerHTML = '';\n",
              "        dataTable['output_type'] = 'display_data';\n",
              "        await google.colab.output.renderOutput(dataTable, element);\n",
              "        const docLink = document.createElement('div');\n",
              "        docLink.innerHTML = docLinkHtml;\n",
              "        element.appendChild(docLink);\n",
              "      }\n",
              "    </script>\n",
              "  </div>\n",
              "\n",
              "\n",
              "    <div id=\"df-92b93f8e-6b97-44c0-b8e4-dec988698d61\">\n",
              "      <button class=\"colab-df-quickchart\" onclick=\"quickchart('df-92b93f8e-6b97-44c0-b8e4-dec988698d61')\"\n",
              "                title=\"Suggest charts\"\n",
              "                style=\"display:none;\">\n",
              "\n",
              "<svg xmlns=\"http://www.w3.org/2000/svg\" height=\"24px\"viewBox=\"0 0 24 24\"\n",
              "     width=\"24px\">\n",
              "    <g>\n",
              "        <path d=\"M19 3H5c-1.1 0-2 .9-2 2v14c0 1.1.9 2 2 2h14c1.1 0 2-.9 2-2V5c0-1.1-.9-2-2-2zM9 17H7v-7h2v7zm4 0h-2V7h2v10zm4 0h-2v-4h2v4z\"/>\n",
              "    </g>\n",
              "</svg>\n",
              "      </button>\n",
              "\n",
              "<style>\n",
              "  .colab-df-quickchart {\n",
              "      --bg-color: #E8F0FE;\n",
              "      --fill-color: #1967D2;\n",
              "      --hover-bg-color: #E2EBFA;\n",
              "      --hover-fill-color: #174EA6;\n",
              "      --disabled-fill-color: #AAA;\n",
              "      --disabled-bg-color: #DDD;\n",
              "  }\n",
              "\n",
              "  [theme=dark] .colab-df-quickchart {\n",
              "      --bg-color: #3B4455;\n",
              "      --fill-color: #D2E3FC;\n",
              "      --hover-bg-color: #434B5C;\n",
              "      --hover-fill-color: #FFFFFF;\n",
              "      --disabled-bg-color: #3B4455;\n",
              "      --disabled-fill-color: #666;\n",
              "  }\n",
              "\n",
              "  .colab-df-quickchart {\n",
              "    background-color: var(--bg-color);\n",
              "    border: none;\n",
              "    border-radius: 50%;\n",
              "    cursor: pointer;\n",
              "    display: none;\n",
              "    fill: var(--fill-color);\n",
              "    height: 32px;\n",
              "    padding: 0;\n",
              "    width: 32px;\n",
              "  }\n",
              "\n",
              "  .colab-df-quickchart:hover {\n",
              "    background-color: var(--hover-bg-color);\n",
              "    box-shadow: 0 1px 2px rgba(60, 64, 67, 0.3), 0 1px 3px 1px rgba(60, 64, 67, 0.15);\n",
              "    fill: var(--button-hover-fill-color);\n",
              "  }\n",
              "\n",
              "  .colab-df-quickchart-complete:disabled,\n",
              "  .colab-df-quickchart-complete:disabled:hover {\n",
              "    background-color: var(--disabled-bg-color);\n",
              "    fill: var(--disabled-fill-color);\n",
              "    box-shadow: none;\n",
              "  }\n",
              "\n",
              "  .colab-df-spinner {\n",
              "    border: 2px solid var(--fill-color);\n",
              "    border-color: transparent;\n",
              "    border-bottom-color: var(--fill-color);\n",
              "    animation:\n",
              "      spin 1s steps(1) infinite;\n",
              "  }\n",
              "\n",
              "  @keyframes spin {\n",
              "    0% {\n",
              "      border-color: transparent;\n",
              "      border-bottom-color: var(--fill-color);\n",
              "      border-left-color: var(--fill-color);\n",
              "    }\n",
              "    20% {\n",
              "      border-color: transparent;\n",
              "      border-left-color: var(--fill-color);\n",
              "      border-top-color: var(--fill-color);\n",
              "    }\n",
              "    30% {\n",
              "      border-color: transparent;\n",
              "      border-left-color: var(--fill-color);\n",
              "      border-top-color: var(--fill-color);\n",
              "      border-right-color: var(--fill-color);\n",
              "    }\n",
              "    40% {\n",
              "      border-color: transparent;\n",
              "      border-right-color: var(--fill-color);\n",
              "      border-top-color: var(--fill-color);\n",
              "    }\n",
              "    60% {\n",
              "      border-color: transparent;\n",
              "      border-right-color: var(--fill-color);\n",
              "    }\n",
              "    80% {\n",
              "      border-color: transparent;\n",
              "      border-right-color: var(--fill-color);\n",
              "      border-bottom-color: var(--fill-color);\n",
              "    }\n",
              "    90% {\n",
              "      border-color: transparent;\n",
              "      border-bottom-color: var(--fill-color);\n",
              "    }\n",
              "  }\n",
              "</style>\n",
              "\n",
              "      <script>\n",
              "        async function quickchart(key) {\n",
              "          const quickchartButtonEl =\n",
              "            document.querySelector('#' + key + ' button');\n",
              "          quickchartButtonEl.disabled = true;  // To prevent multiple clicks.\n",
              "          quickchartButtonEl.classList.add('colab-df-spinner');\n",
              "          try {\n",
              "            const charts = await google.colab.kernel.invokeFunction(\n",
              "                'suggestCharts', [key], {});\n",
              "          } catch (error) {\n",
              "            console.error('Error during call to suggestCharts:', error);\n",
              "          }\n",
              "          quickchartButtonEl.classList.remove('colab-df-spinner');\n",
              "          quickchartButtonEl.classList.add('colab-df-quickchart-complete');\n",
              "        }\n",
              "        (() => {\n",
              "          let quickchartButtonEl =\n",
              "            document.querySelector('#df-92b93f8e-6b97-44c0-b8e4-dec988698d61 button');\n",
              "          quickchartButtonEl.style.display =\n",
              "            google.colab.kernel.accessAllowed ? 'block' : 'none';\n",
              "        })();\n",
              "      </script>\n",
              "    </div>\n",
              "\n",
              "  <div id=\"id_3a0943f5-f798-40c8-a428-3dc47323c6ba\">\n",
              "    <style>\n",
              "      .colab-df-generate {\n",
              "        background-color: #E8F0FE;\n",
              "        border: none;\n",
              "        border-radius: 50%;\n",
              "        cursor: pointer;\n",
              "        display: none;\n",
              "        fill: #1967D2;\n",
              "        height: 32px;\n",
              "        padding: 0 0 0 0;\n",
              "        width: 32px;\n",
              "      }\n",
              "\n",
              "      .colab-df-generate:hover {\n",
              "        background-color: #E2EBFA;\n",
              "        box-shadow: 0px 1px 2px rgba(60, 64, 67, 0.3), 0px 1px 3px 1px rgba(60, 64, 67, 0.15);\n",
              "        fill: #174EA6;\n",
              "      }\n",
              "\n",
              "      [theme=dark] .colab-df-generate {\n",
              "        background-color: #3B4455;\n",
              "        fill: #D2E3FC;\n",
              "      }\n",
              "\n",
              "      [theme=dark] .colab-df-generate:hover {\n",
              "        background-color: #434B5C;\n",
              "        box-shadow: 0px 1px 3px 1px rgba(0, 0, 0, 0.15);\n",
              "        filter: drop-shadow(0px 1px 2px rgba(0, 0, 0, 0.3));\n",
              "        fill: #FFFFFF;\n",
              "      }\n",
              "    </style>\n",
              "    <button class=\"colab-df-generate\" onclick=\"generateWithVariable('recommendations')\"\n",
              "            title=\"Generate code using this dataframe.\"\n",
              "            style=\"display:none;\">\n",
              "\n",
              "  <svg xmlns=\"http://www.w3.org/2000/svg\" height=\"24px\"viewBox=\"0 0 24 24\"\n",
              "       width=\"24px\">\n",
              "    <path d=\"M7,19H8.4L18.45,9,17,7.55,7,17.6ZM5,21V16.75L18.45,3.32a2,2,0,0,1,2.83,0l1.4,1.43a1.91,1.91,0,0,1,.58,1.4,1.91,1.91,0,0,1-.58,1.4L9.25,21ZM18.45,9,17,7.55Zm-12,3A5.31,5.31,0,0,0,4.9,8.1,5.31,5.31,0,0,0,1,6.5,5.31,5.31,0,0,0,4.9,4.9,5.31,5.31,0,0,0,6.5,1,5.31,5.31,0,0,0,8.1,4.9,5.31,5.31,0,0,0,12,6.5,5.46,5.46,0,0,0,6.5,12Z\"/>\n",
              "  </svg>\n",
              "    </button>\n",
              "    <script>\n",
              "      (() => {\n",
              "      const buttonEl =\n",
              "        document.querySelector('#id_3a0943f5-f798-40c8-a428-3dc47323c6ba button.colab-df-generate');\n",
              "      buttonEl.style.display =\n",
              "        google.colab.kernel.accessAllowed ? 'block' : 'none';\n",
              "\n",
              "      buttonEl.onclick = () => {\n",
              "        google.colab.notebook.generateWithVariable('recommendations');\n",
              "      }\n",
              "      })();\n",
              "    </script>\n",
              "  </div>\n",
              "\n",
              "    </div>\n",
              "  </div>\n"
            ],
            "application/vnd.google.colaboratory.intrinsic+json": {
              "type": "dataframe",
              "variable_name": "recommendations",
              "summary": "{\n  \"name\": \"recommendations\",\n  \"rows\": 10,\n  \"fields\": [\n    {\n      \"column\": \"product_name\",\n      \"properties\": {\n        \"dtype\": \"string\",\n        \"num_unique_values\": 9,\n        \"samples\": [\n          \"Portronics Konnect L 60W PD Type C to Type C Mobile Charging Cable, 1.2M, Fast Data Sync, Tangle Resistant, TPE+Nylon Braided(Grey)\",\n          \"Portronics Konnect L POR-1081 Fast Charging 3A Type-C Cable 1.2Meter with Charge & Sync Function for All Type-C Devices (Grey)\",\n          \"Portronics Konnect CL 20W POR-1067 Type-C to 8 Pin USB 1.2M Cable with Power Delivery & 3A Quick Charge Support, Nylon Braided for All Type-C and 8 Pin Devices, Green\"\n        ],\n        \"semantic_type\": \"\",\n        \"description\": \"\"\n      }\n    },\n    {\n      \"column\": \"category\",\n      \"properties\": {\n        \"dtype\": \"category\",\n        \"num_unique_values\": 1,\n        \"samples\": [\n          \"Computers&Accessories|Accessories&Peripherals|Cables&Accessories|Cables|USBCables\"\n        ],\n        \"semantic_type\": \"\",\n        \"description\": \"\"\n      }\n    },\n    {\n      \"column\": \"discounted_price\",\n      \"properties\": {\n        \"dtype\": \"string\",\n        \"num_unique_values\": 6,\n        \"samples\": [\n          \"\\u20b9159\"\n        ],\n        \"semantic_type\": \"\",\n        \"description\": \"\"\n      }\n    },\n    {\n      \"column\": \"Similarity_Score\",\n      \"properties\": {\n        \"dtype\": \"number\",\n        \"std\": 0.1811333990368003,\n        \"min\": 0.45863553487215136,\n        \"max\": 0.8534350349398526,\n        \"num_unique_values\": 10,\n        \"samples\": [\n          0.4601978346481658\n        ],\n        \"semantic_type\": \"\",\n        \"description\": \"\"\n      }\n    }\n  ]\n}"
            }
          },
          "metadata": {},
          "execution_count": 87
        }
      ]
    },
    {
      "cell_type": "markdown",
      "source": [
        "### Evaluasi"
      ],
      "metadata": {
        "id": "YJ8RYxlHLIlh"
      }
    },
    {
      "cell_type": "markdown",
      "source": [
        "Sistem rekomendasi dapat dievaluasi menggunakan metrik Precision@K, sebagaimana dijelaskan di situs [evidentlyai](https://www.evidentlyai.com/ranking-metrics/evaluating-recommender-systems).\n",
        "\n",
        "Rumus yang digunakan adalah:\n",
        "\n",
        "```\n",
        "Precision@K = Jumlah rekomendasi yang relevan/Jumlah rekomendasi yang diberikan\n",
        "```\n",
        "\n",
        "Fitur yang dijadikan evaluasi di sini Product_Category_Preference."
      ],
      "metadata": {
        "id": "f2R9DoOoflms"
      }
    },
    {
      "cell_type": "code",
      "source": [
        "# Fungsi Precision@K\n",
        "def precision_at_k(recommended_indices, relevant_indices, k):\n",
        "    if k == 0:\n",
        "        return 0.0\n",
        "    recommended_at_k = recommended_indices[:k]\n",
        "    relevant_recommended = [idx for idx in recommended_at_k if idx in relevant_indices]\n",
        "    return len(relevant_recommended) / k"
      ],
      "metadata": {
        "id": "jT8sblHFlcCv"
      },
      "execution_count": null,
      "outputs": []
    },
    {
      "cell_type": "code",
      "source": [
        "# Mengambil category_last dari preparation_df\n",
        "target_category = preparation_df.loc[10, 'category_last']\n",
        "\n",
        "# Mencari indeks produk lain dengan kategori sama\n",
        "relevant_indices = set(preparation_df[preparation_df['category_last'] == target_category].index) - {10}\n",
        "\n",
        "# Mengambil indeks produk yang direkomendasikan\n",
        "recommended_indices = recommendations.index.tolist()\n",
        "\n",
        "# Hitung Precision@10\n",
        "p_at_10 = precision_at_k(recommended_indices, relevant_indices, k=10)\n",
        "print(f\"Precision@10: {p_at_10:.2f}\")"
      ],
      "metadata": {
        "colab": {
          "base_uri": "https://localhost:8080/"
        },
        "id": "5loZROb8llvw",
        "outputId": "add78fc7-58ef-48fc-8670-dd7afb6907f3"
      },
      "execution_count": null,
      "outputs": [
        {
          "output_type": "stream",
          "name": "stdout",
          "text": [
            "Precision@10: 1.00\n"
          ]
        }
      ]
    },
    {
      "cell_type": "markdown",
      "source": [
        "Berdasarkan hasi metrik evaluasi, precision@K sebesar 100%. Artinya, dari setiap 10 produk yang direkomendasikan oleh sistem, semua produk memang relevan (satu kategori dengan produk yang sedang dievaluasi)."
      ],
      "metadata": {
        "id": "Okuphg3MmU_M"
      }
    },
    {
      "cell_type": "markdown",
      "source": [
        "## Model Development dengan Collaborative Filtering"
      ],
      "metadata": {
        "id": "ZxlxGrVc-cGg"
      }
    },
    {
      "cell_type": "markdown",
      "source": [
        "### Data Preparation"
      ],
      "metadata": {
        "id": "jjCYrR_0-tpW"
      }
    },
    {
      "cell_type": "code",
      "source": [
        "# Memilih fitur relevan untuk user-based collaborative filtering\n",
        "cf_preparation = df[['user_id', 'product_id', 'rating']].copy()\n",
        "\n",
        "# Menampilkan beberapa baris pertama\n",
        "cf_preparation.head()"
      ],
      "metadata": {
        "colab": {
          "base_uri": "https://localhost:8080/",
          "height": 206
        },
        "id": "pI-kZ89WSmxb",
        "outputId": "fcb38ba8-e16f-4eaf-f8f6-08a20748da4a"
      },
      "execution_count": null,
      "outputs": [
        {
          "output_type": "execute_result",
          "data": {
            "text/plain": [
              "                                             user_id  product_id rating\n",
              "0  AG3D6O4STAQKAY2UVGEUV46KN35Q,AHMY5CWJMMK5BJRBB...  B07JW9H4J1    4.2\n",
              "1  AECPFYFQVRUWC3KGNLJIOREFP5LQ,AGYYVPDD7YG7FYNBX...  B098NS6PVG    4.0\n",
              "2  AGU3BBQ2V2DDAMOAKGFAWDDQ6QHA,AESFLDV2PT363T2AQ...  B096MSW6CT    3.9\n",
              "3  AEWAZDZZJLQUYVOVGBEUKSLXHQ5A,AG5HTSFRRE6NL3M5S...  B08HDJ86NZ    4.2\n",
              "4  AE3Q6KSUK5P75D5HFYHCRAOLODSA,AFUGIFH5ZAFXRDSZH...  B08CF3B7N1    4.2"
            ],
            "text/html": [
              "\n",
              "  <div id=\"df-45530017-0970-44ef-a73e-c2fd48a31dd4\" class=\"colab-df-container\">\n",
              "    <div>\n",
              "<style scoped>\n",
              "    .dataframe tbody tr th:only-of-type {\n",
              "        vertical-align: middle;\n",
              "    }\n",
              "\n",
              "    .dataframe tbody tr th {\n",
              "        vertical-align: top;\n",
              "    }\n",
              "\n",
              "    .dataframe thead th {\n",
              "        text-align: right;\n",
              "    }\n",
              "</style>\n",
              "<table border=\"1\" class=\"dataframe\">\n",
              "  <thead>\n",
              "    <tr style=\"text-align: right;\">\n",
              "      <th></th>\n",
              "      <th>user_id</th>\n",
              "      <th>product_id</th>\n",
              "      <th>rating</th>\n",
              "    </tr>\n",
              "  </thead>\n",
              "  <tbody>\n",
              "    <tr>\n",
              "      <th>0</th>\n",
              "      <td>AG3D6O4STAQKAY2UVGEUV46KN35Q,AHMY5CWJMMK5BJRBB...</td>\n",
              "      <td>B07JW9H4J1</td>\n",
              "      <td>4.2</td>\n",
              "    </tr>\n",
              "    <tr>\n",
              "      <th>1</th>\n",
              "      <td>AECPFYFQVRUWC3KGNLJIOREFP5LQ,AGYYVPDD7YG7FYNBX...</td>\n",
              "      <td>B098NS6PVG</td>\n",
              "      <td>4.0</td>\n",
              "    </tr>\n",
              "    <tr>\n",
              "      <th>2</th>\n",
              "      <td>AGU3BBQ2V2DDAMOAKGFAWDDQ6QHA,AESFLDV2PT363T2AQ...</td>\n",
              "      <td>B096MSW6CT</td>\n",
              "      <td>3.9</td>\n",
              "    </tr>\n",
              "    <tr>\n",
              "      <th>3</th>\n",
              "      <td>AEWAZDZZJLQUYVOVGBEUKSLXHQ5A,AG5HTSFRRE6NL3M5S...</td>\n",
              "      <td>B08HDJ86NZ</td>\n",
              "      <td>4.2</td>\n",
              "    </tr>\n",
              "    <tr>\n",
              "      <th>4</th>\n",
              "      <td>AE3Q6KSUK5P75D5HFYHCRAOLODSA,AFUGIFH5ZAFXRDSZH...</td>\n",
              "      <td>B08CF3B7N1</td>\n",
              "      <td>4.2</td>\n",
              "    </tr>\n",
              "  </tbody>\n",
              "</table>\n",
              "</div>\n",
              "    <div class=\"colab-df-buttons\">\n",
              "\n",
              "  <div class=\"colab-df-container\">\n",
              "    <button class=\"colab-df-convert\" onclick=\"convertToInteractive('df-45530017-0970-44ef-a73e-c2fd48a31dd4')\"\n",
              "            title=\"Convert this dataframe to an interactive table.\"\n",
              "            style=\"display:none;\">\n",
              "\n",
              "  <svg xmlns=\"http://www.w3.org/2000/svg\" height=\"24px\" viewBox=\"0 -960 960 960\">\n",
              "    <path d=\"M120-120v-720h720v720H120Zm60-500h600v-160H180v160Zm220 220h160v-160H400v160Zm0 220h160v-160H400v160ZM180-400h160v-160H180v160Zm440 0h160v-160H620v160ZM180-180h160v-160H180v160Zm440 0h160v-160H620v160Z\"/>\n",
              "  </svg>\n",
              "    </button>\n",
              "\n",
              "  <style>\n",
              "    .colab-df-container {\n",
              "      display:flex;\n",
              "      gap: 12px;\n",
              "    }\n",
              "\n",
              "    .colab-df-convert {\n",
              "      background-color: #E8F0FE;\n",
              "      border: none;\n",
              "      border-radius: 50%;\n",
              "      cursor: pointer;\n",
              "      display: none;\n",
              "      fill: #1967D2;\n",
              "      height: 32px;\n",
              "      padding: 0 0 0 0;\n",
              "      width: 32px;\n",
              "    }\n",
              "\n",
              "    .colab-df-convert:hover {\n",
              "      background-color: #E2EBFA;\n",
              "      box-shadow: 0px 1px 2px rgba(60, 64, 67, 0.3), 0px 1px 3px 1px rgba(60, 64, 67, 0.15);\n",
              "      fill: #174EA6;\n",
              "    }\n",
              "\n",
              "    .colab-df-buttons div {\n",
              "      margin-bottom: 4px;\n",
              "    }\n",
              "\n",
              "    [theme=dark] .colab-df-convert {\n",
              "      background-color: #3B4455;\n",
              "      fill: #D2E3FC;\n",
              "    }\n",
              "\n",
              "    [theme=dark] .colab-df-convert:hover {\n",
              "      background-color: #434B5C;\n",
              "      box-shadow: 0px 1px 3px 1px rgba(0, 0, 0, 0.15);\n",
              "      filter: drop-shadow(0px 1px 2px rgba(0, 0, 0, 0.3));\n",
              "      fill: #FFFFFF;\n",
              "    }\n",
              "  </style>\n",
              "\n",
              "    <script>\n",
              "      const buttonEl =\n",
              "        document.querySelector('#df-45530017-0970-44ef-a73e-c2fd48a31dd4 button.colab-df-convert');\n",
              "      buttonEl.style.display =\n",
              "        google.colab.kernel.accessAllowed ? 'block' : 'none';\n",
              "\n",
              "      async function convertToInteractive(key) {\n",
              "        const element = document.querySelector('#df-45530017-0970-44ef-a73e-c2fd48a31dd4');\n",
              "        const dataTable =\n",
              "          await google.colab.kernel.invokeFunction('convertToInteractive',\n",
              "                                                    [key], {});\n",
              "        if (!dataTable) return;\n",
              "\n",
              "        const docLinkHtml = 'Like what you see? Visit the ' +\n",
              "          '<a target=\"_blank\" href=https://colab.research.google.com/notebooks/data_table.ipynb>data table notebook</a>'\n",
              "          + ' to learn more about interactive tables.';\n",
              "        element.innerHTML = '';\n",
              "        dataTable['output_type'] = 'display_data';\n",
              "        await google.colab.output.renderOutput(dataTable, element);\n",
              "        const docLink = document.createElement('div');\n",
              "        docLink.innerHTML = docLinkHtml;\n",
              "        element.appendChild(docLink);\n",
              "      }\n",
              "    </script>\n",
              "  </div>\n",
              "\n",
              "\n",
              "    <div id=\"df-6dbf9f40-546f-4470-9e7f-f870ef007d25\">\n",
              "      <button class=\"colab-df-quickchart\" onclick=\"quickchart('df-6dbf9f40-546f-4470-9e7f-f870ef007d25')\"\n",
              "                title=\"Suggest charts\"\n",
              "                style=\"display:none;\">\n",
              "\n",
              "<svg xmlns=\"http://www.w3.org/2000/svg\" height=\"24px\"viewBox=\"0 0 24 24\"\n",
              "     width=\"24px\">\n",
              "    <g>\n",
              "        <path d=\"M19 3H5c-1.1 0-2 .9-2 2v14c0 1.1.9 2 2 2h14c1.1 0 2-.9 2-2V5c0-1.1-.9-2-2-2zM9 17H7v-7h2v7zm4 0h-2V7h2v10zm4 0h-2v-4h2v4z\"/>\n",
              "    </g>\n",
              "</svg>\n",
              "      </button>\n",
              "\n",
              "<style>\n",
              "  .colab-df-quickchart {\n",
              "      --bg-color: #E8F0FE;\n",
              "      --fill-color: #1967D2;\n",
              "      --hover-bg-color: #E2EBFA;\n",
              "      --hover-fill-color: #174EA6;\n",
              "      --disabled-fill-color: #AAA;\n",
              "      --disabled-bg-color: #DDD;\n",
              "  }\n",
              "\n",
              "  [theme=dark] .colab-df-quickchart {\n",
              "      --bg-color: #3B4455;\n",
              "      --fill-color: #D2E3FC;\n",
              "      --hover-bg-color: #434B5C;\n",
              "      --hover-fill-color: #FFFFFF;\n",
              "      --disabled-bg-color: #3B4455;\n",
              "      --disabled-fill-color: #666;\n",
              "  }\n",
              "\n",
              "  .colab-df-quickchart {\n",
              "    background-color: var(--bg-color);\n",
              "    border: none;\n",
              "    border-radius: 50%;\n",
              "    cursor: pointer;\n",
              "    display: none;\n",
              "    fill: var(--fill-color);\n",
              "    height: 32px;\n",
              "    padding: 0;\n",
              "    width: 32px;\n",
              "  }\n",
              "\n",
              "  .colab-df-quickchart:hover {\n",
              "    background-color: var(--hover-bg-color);\n",
              "    box-shadow: 0 1px 2px rgba(60, 64, 67, 0.3), 0 1px 3px 1px rgba(60, 64, 67, 0.15);\n",
              "    fill: var(--button-hover-fill-color);\n",
              "  }\n",
              "\n",
              "  .colab-df-quickchart-complete:disabled,\n",
              "  .colab-df-quickchart-complete:disabled:hover {\n",
              "    background-color: var(--disabled-bg-color);\n",
              "    fill: var(--disabled-fill-color);\n",
              "    box-shadow: none;\n",
              "  }\n",
              "\n",
              "  .colab-df-spinner {\n",
              "    border: 2px solid var(--fill-color);\n",
              "    border-color: transparent;\n",
              "    border-bottom-color: var(--fill-color);\n",
              "    animation:\n",
              "      spin 1s steps(1) infinite;\n",
              "  }\n",
              "\n",
              "  @keyframes spin {\n",
              "    0% {\n",
              "      border-color: transparent;\n",
              "      border-bottom-color: var(--fill-color);\n",
              "      border-left-color: var(--fill-color);\n",
              "    }\n",
              "    20% {\n",
              "      border-color: transparent;\n",
              "      border-left-color: var(--fill-color);\n",
              "      border-top-color: var(--fill-color);\n",
              "    }\n",
              "    30% {\n",
              "      border-color: transparent;\n",
              "      border-left-color: var(--fill-color);\n",
              "      border-top-color: var(--fill-color);\n",
              "      border-right-color: var(--fill-color);\n",
              "    }\n",
              "    40% {\n",
              "      border-color: transparent;\n",
              "      border-right-color: var(--fill-color);\n",
              "      border-top-color: var(--fill-color);\n",
              "    }\n",
              "    60% {\n",
              "      border-color: transparent;\n",
              "      border-right-color: var(--fill-color);\n",
              "    }\n",
              "    80% {\n",
              "      border-color: transparent;\n",
              "      border-right-color: var(--fill-color);\n",
              "      border-bottom-color: var(--fill-color);\n",
              "    }\n",
              "    90% {\n",
              "      border-color: transparent;\n",
              "      border-bottom-color: var(--fill-color);\n",
              "    }\n",
              "  }\n",
              "</style>\n",
              "\n",
              "      <script>\n",
              "        async function quickchart(key) {\n",
              "          const quickchartButtonEl =\n",
              "            document.querySelector('#' + key + ' button');\n",
              "          quickchartButtonEl.disabled = true;  // To prevent multiple clicks.\n",
              "          quickchartButtonEl.classList.add('colab-df-spinner');\n",
              "          try {\n",
              "            const charts = await google.colab.kernel.invokeFunction(\n",
              "                'suggestCharts', [key], {});\n",
              "          } catch (error) {\n",
              "            console.error('Error during call to suggestCharts:', error);\n",
              "          }\n",
              "          quickchartButtonEl.classList.remove('colab-df-spinner');\n",
              "          quickchartButtonEl.classList.add('colab-df-quickchart-complete');\n",
              "        }\n",
              "        (() => {\n",
              "          let quickchartButtonEl =\n",
              "            document.querySelector('#df-6dbf9f40-546f-4470-9e7f-f870ef007d25 button');\n",
              "          quickchartButtonEl.style.display =\n",
              "            google.colab.kernel.accessAllowed ? 'block' : 'none';\n",
              "        })();\n",
              "      </script>\n",
              "    </div>\n",
              "\n",
              "    </div>\n",
              "  </div>\n"
            ],
            "application/vnd.google.colaboratory.intrinsic+json": {
              "type": "dataframe",
              "variable_name": "cf_preparation",
              "summary": "{\n  \"name\": \"cf_preparation\",\n  \"rows\": 1465,\n  \"fields\": [\n    {\n      \"column\": \"user_id\",\n      \"properties\": {\n        \"dtype\": \"string\",\n        \"num_unique_values\": 1194,\n        \"samples\": [\n          \"AEWW4LJOVXD65UKE7QCBCHQZMG7A,AGVWB5YTQZC7GAIV4PCCOFF2U27A,AFUR2THG6BYV6IRA5JV6LBQNG2AA,AFSG5TXKKCLHBK3FABKJABBBUHEQ,AF2DOUVTY5LHTVWGGVE6YHW5KEGA,AFEX5OM5UOST6POIWTBW6TCEZ2YA,AFKZZOQ7J2SOXP3OHFBEDXNFINCQ,AFD6P5IRXY6KWXUW4H7X6ECRMSLA\",\n          \"AG65C34LATM4J3ZFKJJPDNISZKUQ,AG76GICZHJGA7YVN4TORX36ONVYA,AHHIHCEKEYDIRPJ5W7WXGLB3E66Q,AFYSF6635O2EAPR4GMVBH74FSIFQ,AHAVRPA7Z3PKTTWVBVUISCKI7RYQ,AEDH674UH53A5FKLUZCCM5LVKUQQ,AEUK344UA4FNU4PR4AWSPKWX5PPQ,AGPAK6ELVZPVKQ7GEZ7IUHNK2C3Q\",\n          \"AE3S2ZAEMH765KUJ57DR6HBZBB3Q,AHSIVUNTJMI5S5AJGFDE5EDQ355Q,AGQUDHVCMBW7DYS2HT5HA3QCZIEA,AFNXZNINQLTHKVRFI37VQAAFFGOA,AGVKQNHNS7PQK63FIB6EVC5GUAMQ,AEHZ4NOZ5SIDQLGODWS4UZ6RVQJA,AGBVAEUPMWYCDQIKNAD2DXEYWXZA,AEOJW7OWUZROZ6Z66ZQU33Y2ZYLQ\"\n        ],\n        \"semantic_type\": \"\",\n        \"description\": \"\"\n      }\n    },\n    {\n      \"column\": \"product_id\",\n      \"properties\": {\n        \"dtype\": \"string\",\n        \"num_unique_values\": 1351,\n        \"samples\": [\n          \"B09GFLXVH9\",\n          \"B0BC9BW512\",\n          \"B097JVLW3L\"\n        ],\n        \"semantic_type\": \"\",\n        \"description\": \"\"\n      }\n    },\n    {\n      \"column\": \"rating\",\n      \"properties\": {\n        \"dtype\": \"category\",\n        \"num_unique_values\": 28,\n        \"samples\": [\n          \"3.6\",\n          \"3\",\n          \"3.3\"\n        ],\n        \"semantic_type\": \"\",\n        \"description\": \"\"\n      }\n    }\n  ]\n}"
            }
          },
          "metadata": {},
          "execution_count": 42
        }
      ]
    },
    {
      "cell_type": "code",
      "source": [
        "# Cek duplikat\n",
        "cf_preparation.duplicated().sum()"
      ],
      "metadata": {
        "colab": {
          "base_uri": "https://localhost:8080/"
        },
        "id": "aZflVtJ9X_3H",
        "outputId": "fab75d03-e101-4659-f320-0b0674f02596"
      },
      "execution_count": null,
      "outputs": [
        {
          "output_type": "execute_result",
          "data": {
            "text/plain": [
              "104"
            ]
          },
          "metadata": {},
          "execution_count": 92
        }
      ]
    },
    {
      "cell_type": "code",
      "source": [
        "# Menghapus data duplikat\n",
        "cf_preparation = cf_preparation.drop_duplicates()\n",
        "print(cf_preparation.shape)"
      ],
      "metadata": {
        "colab": {
          "base_uri": "https://localhost:8080/"
        },
        "id": "KrBXFM-aYPCs",
        "outputId": "8d910ce2-8ca3-4dc2-d7e8-a4085309e37e"
      },
      "execution_count": null,
      "outputs": [
        {
          "output_type": "stream",
          "name": "stdout",
          "text": [
            "(1361, 5)\n"
          ]
        }
      ]
    },
    {
      "cell_type": "code",
      "source": [
        "# Konversi tipe data rating dari object ke float\n",
        "# Mengonversi kolom rating menjadi float, mengganti nilai non-numerik (seperti '|') dengan NaN\n",
        "cf_preparation['rating'] = pd.to_numeric(cf_preparation['rating'], errors='coerce')\n",
        "\n",
        "# Menangani NaN dengan rata-rata rating\n",
        "cf_preparation['rating'] = cf_preparation['rating'].fillna(cf_preparation['rating'].mean())\n",
        "\n",
        "# Memeriksa hasil\n",
        "print(cf_preparation['rating'].head())"
      ],
      "metadata": {
        "colab": {
          "base_uri": "https://localhost:8080/"
        },
        "id": "w09P-xfgUCxs",
        "outputId": "6dfa255d-70e8-426b-8784-e628be4a49dc"
      },
      "execution_count": null,
      "outputs": [
        {
          "output_type": "stream",
          "name": "stdout",
          "text": [
            "976    4.6\n",
            "175    3.7\n",
            "275    3.3\n",
            "548    4.3\n",
            "869    4.3\n",
            "Name: rating, dtype: float64\n"
          ]
        }
      ]
    },
    {
      "cell_type": "code",
      "source": [
        "# Encoding user dan product\n",
        "user_ids = cf_preparation['user_id'].unique().tolist()\n",
        "product_ids = cf_preparation['product_id'].unique().tolist()\n",
        "\n",
        "user_to_encoded = {x: i for i, x in enumerate(user_ids)}\n",
        "product_to_encoded = {x: i for i, x in enumerate(product_ids)}\n",
        "\n",
        "cf_preparation['user'] = cf_preparation['user_id'].map(user_to_encoded)\n",
        "cf_preparation['product'] = cf_preparation['product_id'].map(product_to_encoded)"
      ],
      "metadata": {
        "id": "FSFbuRr9A6Il"
      },
      "execution_count": null,
      "outputs": []
    },
    {
      "cell_type": "code",
      "source": [
        "# Info dasar\n",
        "num_users = len(user_to_encoded)\n",
        "num_products = len(product_to_encoded)\n",
        "min_rating = cf_preparation['rating'].min()\n",
        "max_rating = cf_preparation['rating'].max()\n",
        "print(f\"User: {num_users}, Product: {num_products}, Min Rating: {min_rating}, Max Rating: {max_rating}\")"
      ],
      "metadata": {
        "colab": {
          "base_uri": "https://localhost:8080/"
        },
        "id": "nWLVbzGcBHpY",
        "outputId": "cc7739ad-1248-4c83-c2e5-2437203fa480"
      },
      "execution_count": null,
      "outputs": [
        {
          "output_type": "stream",
          "name": "stdout",
          "text": [
            "User: 1194, Product: 1351, Min Rating: 2.0, Max Rating: 5.0\n"
          ]
        }
      ]
    },
    {
      "cell_type": "code",
      "source": [
        "# Mengacak data\n",
        "cf_preparation = cf_preparation.sample(frac=1, random_state=42)"
      ],
      "metadata": {
        "id": "dTaL5bsLBWZa"
      },
      "execution_count": null,
      "outputs": []
    },
    {
      "cell_type": "code",
      "source": [
        "# Dataset untuk Surprise\n",
        "reader = Reader(rating_scale=(min_rating, max_rating))\n",
        "data = Dataset.load_from_df(cf_preparation[['user', 'product', 'rating']], reader)"
      ],
      "metadata": {
        "id": "-zNNB9JJBZ8D"
      },
      "execution_count": null,
      "outputs": []
    },
    {
      "cell_type": "code",
      "source": [
        "# Split train-test\n",
        "train_set, test_set = train_test_split(data, test_size=0.2)"
      ],
      "metadata": {
        "id": "NmgwdcRLBeFR"
      },
      "execution_count": null,
      "outputs": []
    },
    {
      "cell_type": "markdown",
      "source": [
        "### Modeling"
      ],
      "metadata": {
        "id": "tkPQLwC2Ch7x"
      }
    },
    {
      "cell_type": "code",
      "source": [
        "# Grid Search\n",
        "param_grid = {\n",
        "    'n_factors': [20, 50, 100, 150, 200],\n",
        "    'lr_all': [0.001, 0.002, 0.005, 0.01, 0.02],\n",
        "    'reg_all': [0.005, 0.01, 0.02, 0.05, 0.1]\n",
        "}\n",
        "gs = GridSearchCV(SVDpp, param_grid, measures=['rmse'], cv=3, n_jobs=-1, joblib_verbose=1)\n",
        "gs.fit(data)\n",
        "\n",
        "print(\"Best RMSE score:\", gs.best_score['rmse'])\n",
        "print(\"Best parameters:\", gs.best_params['rmse'])"
      ],
      "metadata": {
        "colab": {
          "base_uri": "https://localhost:8080/"
        },
        "id": "iEQV4iHBBhFt",
        "outputId": "87594e67-d427-4497-fcd4-01c812f8c7b4"
      },
      "execution_count": null,
      "outputs": [
        {
          "output_type": "stream",
          "name": "stderr",
          "text": [
            "[Parallel(n_jobs=-1)]: Using backend LokyBackend with 2 concurrent workers.\n",
            "[Parallel(n_jobs=-1)]: Done 230 tasks      | elapsed:    7.0s\n"
          ]
        },
        {
          "output_type": "stream",
          "name": "stdout",
          "text": [
            "Best RMSE score: 0.29150595581735744\n",
            "Best parameters: {'n_factors': 20, 'lr_all': 0.02, 'reg_all': 0.05}\n"
          ]
        },
        {
          "output_type": "stream",
          "name": "stderr",
          "text": [
            "[Parallel(n_jobs=-1)]: Done 375 out of 375 | elapsed:   16.4s finished\n"
          ]
        }
      ]
    },
    {
      "cell_type": "code",
      "source": [
        "# Evaluasi Cross-Validation dengan best model\n",
        "best_model = SVDpp(**gs.best_params['rmse'])\n",
        "cross_validate(best_model, data, measures=['RMSE'], cv=3, verbose=True)"
      ],
      "metadata": {
        "colab": {
          "base_uri": "https://localhost:8080/"
        },
        "id": "Pp098JtJBlXl",
        "outputId": "8f5a173d-2c3d-4f74-ac62-8a65aa7e02bb"
      },
      "execution_count": null,
      "outputs": [
        {
          "output_type": "stream",
          "name": "stdout",
          "text": [
            "Evaluating RMSE of algorithm SVDpp on 3 split(s).\n",
            "\n",
            "                  Fold 1  Fold 2  Fold 3  Mean    Std     \n",
            "RMSE (testset)    0.3118  0.2786  0.2863  0.2923  0.0142  \n",
            "Fit time          0.01    0.01    0.01    0.01    0.00    \n",
            "Test time         0.00    0.00    0.00    0.00    0.00    \n"
          ]
        },
        {
          "output_type": "execute_result",
          "data": {
            "text/plain": [
              "{'test_rmse': array([0.31178854, 0.27864574, 0.28633266]),\n",
              " 'fit_time': (0.014711380004882812, 0.013376951217651367, 0.01161050796508789),\n",
              " 'test_time': (0.0027740001678466797,\n",
              "  0.002629518508911133,\n",
              "  0.0028693675994873047)}"
            ]
          },
          "metadata": {},
          "execution_count": 101
        }
      ]
    },
    {
      "cell_type": "code",
      "source": [
        "# Fit ulang di train_set\n",
        "best_model.fit(train_set)"
      ],
      "metadata": {
        "id": "YLTkgC7EBrWS",
        "colab": {
          "base_uri": "https://localhost:8080/"
        },
        "outputId": "6c560ecf-cdfa-45c8-985f-25f7c5f59ed2"
      },
      "execution_count": null,
      "outputs": [
        {
          "output_type": "execute_result",
          "data": {
            "text/plain": [
              "<surprise.prediction_algorithms.matrix_factorization.SVDpp at 0x7d41584fdbd0>"
            ]
          },
          "metadata": {},
          "execution_count": 102
        }
      ]
    },
    {
      "cell_type": "code",
      "source": [
        "# Evaluasi di test_set\n",
        "predictions = best_model.test(test_set)"
      ],
      "metadata": {
        "id": "MtfptDtaNY9d"
      },
      "execution_count": null,
      "outputs": []
    },
    {
      "cell_type": "markdown",
      "source": [
        "### Mendapatkan Top-N Rekomendasi"
      ],
      "metadata": {
        "id": "7S04nIjpFhig"
      }
    },
    {
      "cell_type": "code",
      "source": [
        "# Membuat reverse mapping (angka -> user_id dan product_id)\n",
        "encoded_to_user = {i: x for x, i in user_to_encoded.items()}\n",
        "encoded_to_product = {i: x for x, i in product_to_encoded.items()}"
      ],
      "metadata": {
        "id": "I3uzFgZSGNKx"
      },
      "execution_count": null,
      "outputs": []
    },
    {
      "cell_type": "code",
      "source": [
        "# Mengambil user_id berdasarkan indeks ke-11 dari daftar unik user\n",
        "user_id = df['user_id'].unique()[10]  # indeks ke-11\n",
        "\n",
        "# Semua product_id\n",
        "all_product_ids = df['product_id'].unique()\n",
        "\n",
        "# Produk yang sudah dinilai user\n",
        "rated_products = df[df['user_id'] == user_id]['product_id'].tolist()\n",
        "\n",
        "# Produk yang belum dinilai user (candidate for recommendation)\n",
        "not_rated = [pid for pid in all_product_ids if pid not in rated_products]\n",
        "\n",
        "# Prediksi rating untuk setiap produk yang belum dirating\n",
        "predictions = [best_model.predict(user_id, pid) for pid in not_rated]\n",
        "\n",
        "# Urutkan berdasarkan rating tertinggi\n",
        "predictions.sort(key=lambda x: x.est, reverse=True)\n",
        "\n",
        "# Ambil 10 produk teratas\n",
        "top_10_predictions = predictions[:10]\n",
        "recommended_product_ids = [pred.iid for pred in top_10_predictions]\n",
        "\n",
        "# Tampilkan rekomendasi\n",
        "print(f'Rekomendasi untuk User {user_id}')\n",
        "print('=' * 30)\n",
        "\n",
        "# Produk yang pernah dinilai user\n",
        "print('Produk dengan rating tinggi dari user:')\n",
        "print('-' * 30)\n",
        "top_rated = df[(df['user_id'] == user_id)].sort_values(by='rating', ascending=False).head(5)\n",
        "for row in top_rated.itertuples():\n",
        "    print(f\"{row.product_name} (Rating: {row.rating})\")\n",
        "\n",
        "# Produk yang direkomendasikan\n",
        "print('-' * 30)\n",
        "print('Top 10 Produk Rekomendasi:')\n",
        "print('-' * 30)\n",
        "recommended_df = df[df['product_id'].isin(recommended_product_ids)][['product_id', 'product_name', 'category']].drop_duplicates()\n",
        "for row in recommended_df.itertuples():\n",
        "    print(f\"{row.product_name} - {row.category}\")"
      ],
      "metadata": {
        "colab": {
          "base_uri": "https://localhost:8080/"
        },
        "id": "NiguyTJ9FksM",
        "outputId": "bcb7bc6a-4f71-4d0f-97fe-9938a4e6adfc"
      },
      "execution_count": null,
      "outputs": [
        {
          "output_type": "stream",
          "name": "stdout",
          "text": [
            "Rekomendasi untuk User AEYJ5I6JZZPOJB6MGWRQOHRQLPSQ,AFY5TVFOMVHGBPBTIJODYDQRZM5Q,AE3O6366WGEQAANKJ76QETTUQQTQ,AEQIJCPWSBCDKUO5VROXXHWX3PPA,AGVIAQK2HQ47P7UVXHW2NBAEU7YQ,AE3D5CJ2GDUP5SQ3AAYMVAGDTX7A,AH77IQRYD54XCRMCO7XEAIAYCLPA,AEA2HQHMFG3ZGJFOLLJQ65WKIZUQ\n",
            "==============================\n",
            "Produk dengan rating tinggi dari user:\n",
            "------------------------------\n",
            "AmazonBasics Flexible Premium HDMI Cable (Black, 4K@60Hz, 18Gbps), 3-Foot (Rating: 4.4)\n",
            "Amazon Basics High-Speed HDMI Cable, 6 Feet - Supports Ethernet, 3D, 4K video,Black (Rating: 4.4)\n",
            "Amazon Basics High-Speed HDMI Cable, 6 Feet (2-Pack),Black (Rating: 4.4)\n",
            "AmazonBasics Flexible Premium HDMI Cable (Black, 4K@60Hz, 18Gbps), 3-Foot (Rating: 4.4)\n",
            "------------------------------\n",
            "Top 10 Produk Rekomendasi:\n",
            "------------------------------\n",
            "Wayona Nylon Braided USB to Lightning Fast Charging and Data Sync Cable Compatible for iPhone 13, 12,11, X, 8, 7, 6, 5, iPad Air, Pro, Mini (3 FT Pack of 1, Grey) - Computers&Accessories|Accessories&Peripherals|Cables&Accessories|Cables|USBCables\n",
            "Ambrane Unbreakable 60W / 3A Fast Charging 1.5m Braided Type C Cable for Smartphones, Tablets, Laptops & other Type C devices, PD Technology, 480Mbps Data Sync, Quick Charge 3.0 (RCT15A, Black) - Computers&Accessories|Accessories&Peripherals|Cables&Accessories|Cables|USBCables\n",
            "Sounce Fast Phone Charging Cable & Data Sync USB Cable Compatible for iPhone 13, 12,11, X, 8, 7, 6, 5, iPad Air, Pro, Mini & iOS Devices - Computers&Accessories|Accessories&Peripherals|Cables&Accessories|Cables|USBCables\n",
            "boAt Deuce USB 300 2 in 1 Type-C & Micro USB Stress Resistant, Tangle-Free, Sturdy Cable with 3A Fast Charging & 480mbps Data Transmission, 10000+ Bends Lifespan and Extended 1.5m Length(Martian Red) - Computers&Accessories|Accessories&Peripherals|Cables&Accessories|Cables|USBCables\n",
            "Portronics Konnect L 1.2M Fast Charging 3A 8 Pin USB Cable with Charge & Sync Function for iPhone, iPad (Grey) - Computers&Accessories|Accessories&Peripherals|Cables&Accessories|Cables|USBCables\n",
            "pTron Solero TB301 3A Type-C Data and Fast Charging Cable, Made in India, 480Mbps Data Sync, Strong and Durable 1.5-Meter Nylon Braided USB Cable for Type-C Devices for Charging Adapter (Black) - Computers&Accessories|Accessories&Peripherals|Cables&Accessories|Cables|USBCables\n",
            "boAt Micro USB 55 Tangle-free, Sturdy Micro USB Cable with 3A Fast Charging & 480mbps Data Transmission (Black) - Computers&Accessories|Accessories&Peripherals|Cables&Accessories|Cables|USBCables\n",
            "MI Usb Type-C Cable Smartphone (Black) - Computers&Accessories|Accessories&Peripherals|Cables&Accessories|Cables|USBCables\n",
            "TP-Link USB WiFi Adapter for PC(TL-WN725N), N150 Wireless Network Adapter for Desktop - Nano Size WiFi Dongle Compatible with Windows 11/10/7/8/8.1/XP/ Mac OS 10.9-10.15 Linux Kernel 2.6.18-4.4.3 - Computers&Accessories|NetworkingDevices|NetworkAdapters|WirelessUSBAdapters\n",
            "Ambrane Unbreakable 60W / 3A Fast Charging 1.5m Braided Micro USB Cable for Smartphones, Tablets, Laptops & Other Micro USB Devices, 480Mbps Data Sync, Quick Charge 3.0 (RCM15, Black) - Computers&Accessories|Accessories&Peripherals|Cables&Accessories|Cables|USBCables\n"
          ]
        }
      ]
    },
    {
      "cell_type": "markdown",
      "source": [
        "### Evaluasi"
      ],
      "metadata": {
        "id": "jdUbgAWHNoid"
      }
    },
    {
      "cell_type": "code",
      "source": [
        "# Evaluasi model\n",
        "# Membuat prediksi pada test set\n",
        "predictions = best_model.test(test_set)"
      ],
      "metadata": {
        "id": "_u9hR8qrONFD"
      },
      "execution_count": null,
      "outputs": []
    },
    {
      "cell_type": "code",
      "source": [
        "# Evaluasi dengan RMSE\n",
        "rmse = accuracy.rmse(predictions)\n",
        "print(f\"Test RMSE dengan best parameter: {rmse:.4f}\")"
      ],
      "metadata": {
        "colab": {
          "base_uri": "https://localhost:8080/"
        },
        "id": "QSbP9ji-CbXk",
        "outputId": "1b66447e-0524-46d2-ba7e-c8a46d87098e"
      },
      "execution_count": null,
      "outputs": [
        {
          "output_type": "stream",
          "name": "stdout",
          "text": [
            "RMSE: 0.2670\n",
            "Test RMSE dengan best parameter: 0.2670\n"
          ]
        }
      ]
    },
    {
      "cell_type": "code",
      "source": [
        "# Evaluasi dengan MAE\n",
        "mae = accuracy.mae(predictions)\n",
        "print(f\"MAE dengan best parameter: {mae:.4f}\")"
      ],
      "metadata": {
        "colab": {
          "base_uri": "https://localhost:8080/"
        },
        "id": "GyI1I7NPNs9k",
        "outputId": "e43b43c9-84be-4bbb-8687-16c9a1780ebd"
      },
      "execution_count": null,
      "outputs": [
        {
          "output_type": "stream",
          "name": "stdout",
          "text": [
            "MAE:  0.2013\n",
            "MAE dengan best parameter: 0.2013\n"
          ]
        }
      ]
    },
    {
      "cell_type": "markdown",
      "source": [
        "Hasil evaluasi model rekomendasi menunjukkan performa yang sangat baik:\n",
        "- RMSE (Root Mean Squared Error): 0.2670\n",
        "- MAE (Mean Absolute Error): 0.2013\n",
        "\n",
        "Semakin rendah nilai RMSE dan MAE, semakin akurat model dalam memprediksi rating yang mendekati nilai sebenarnya."
      ],
      "metadata": {
        "id": "SVlhsm3LC3YV"
      }
    }
  ]
}